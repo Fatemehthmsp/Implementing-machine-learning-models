{
 "cells": [
  {
   "cell_type": "code",
   "execution_count": 1,
   "id": "9f8086f5",
   "metadata": {},
   "outputs": [],
   "source": [
    "import pandas as pd\n",
    "import numpy as np\n",
    "from sklearn.model_selection import train_test_split\n",
    "from sklearn.preprocessing import StandardScaler\n",
    "from sklearn.metrics.pairwise import cosine_similarity\n",
    "from sklearn.linear_model import LinearRegression, LogisticRegression\n",
    "from sklearn.tree import DecisionTreeRegressor, DecisionTreeClassifier\n",
    "from sklearn.metrics import (\n",
    "    mean_absolute_error, root_mean_squared_error, r2_score,\n",
    "    accuracy_score, precision_score, recall_score, f1_score,\n",
    "    confusion_matrix\n",
    ")\n",
    "from sklearn.cluster import KMeans\n",
    "import matplotlib.pyplot as plt\n",
    "import seaborn as sns\n",
    "import plotly.express as px\n",
    "import plotly.graph_objects as go\n",
    "from mlxtend.frequent_patterns import apriori, association_rules"
   ]
  },
  {
   "cell_type": "markdown",
   "id": "f3f96fa2",
   "metadata": {},
   "source": [
    "Loading the dataset and Basic Preprocessing:\n",
    "Deleting outliers, Duplicates, Null values"
   ]
  },
  {
   "cell_type": "code",
   "execution_count": 2,
   "id": "01a90ea5",
   "metadata": {},
   "outputs": [
    {
     "data": {
      "text/html": [
       "<div>\n",
       "<style scoped>\n",
       "    .dataframe tbody tr th:only-of-type {\n",
       "        vertical-align: middle;\n",
       "    }\n",
       "\n",
       "    .dataframe tbody tr th {\n",
       "        vertical-align: top;\n",
       "    }\n",
       "\n",
       "    .dataframe thead th {\n",
       "        text-align: right;\n",
       "    }\n",
       "</style>\n",
       "<table border=\"1\" class=\"dataframe\">\n",
       "  <thead>\n",
       "    <tr style=\"text-align: right;\">\n",
       "      <th></th>\n",
       "      <th>Gender</th>\n",
       "      <th>HoursStudied/Week</th>\n",
       "      <th>Tutoring</th>\n",
       "      <th>Region</th>\n",
       "      <th>Attendance(%)</th>\n",
       "      <th>Parent Education</th>\n",
       "      <th>Exam_Score</th>\n",
       "    </tr>\n",
       "  </thead>\n",
       "  <tbody>\n",
       "    <tr>\n",
       "      <th>0</th>\n",
       "      <td>Male</td>\n",
       "      <td>5.5</td>\n",
       "      <td>No</td>\n",
       "      <td>Urban</td>\n",
       "      <td>72.7</td>\n",
       "      <td>Tertiary</td>\n",
       "      <td>43.5</td>\n",
       "    </tr>\n",
       "    <tr>\n",
       "      <th>1</th>\n",
       "      <td>Female</td>\n",
       "      <td>6.8</td>\n",
       "      <td>No</td>\n",
       "      <td>Urban</td>\n",
       "      <td>62.0</td>\n",
       "      <td>Primary</td>\n",
       "      <td>51.7</td>\n",
       "    </tr>\n",
       "    <tr>\n",
       "      <th>2</th>\n",
       "      <td>Female</td>\n",
       "      <td>9.7</td>\n",
       "      <td>No</td>\n",
       "      <td>Rural</td>\n",
       "      <td>95.0</td>\n",
       "      <td>Secondary</td>\n",
       "      <td>70.1</td>\n",
       "    </tr>\n",
       "    <tr>\n",
       "      <th>5</th>\n",
       "      <td>Female</td>\n",
       "      <td>7.9</td>\n",
       "      <td>No</td>\n",
       "      <td>Urban</td>\n",
       "      <td>73.7</td>\n",
       "      <td>Tertiary</td>\n",
       "      <td>58.8</td>\n",
       "    </tr>\n",
       "    <tr>\n",
       "      <th>6</th>\n",
       "      <td>Female</td>\n",
       "      <td>7.6</td>\n",
       "      <td>No</td>\n",
       "      <td>Urban</td>\n",
       "      <td>79.5</td>\n",
       "      <td>Secondary</td>\n",
       "      <td>64.8</td>\n",
       "    </tr>\n",
       "  </tbody>\n",
       "</table>\n",
       "</div>"
      ],
      "text/plain": [
       "   Gender  HoursStudied/Week Tutoring Region  Attendance(%) Parent Education  \\\n",
       "0    Male                5.5       No  Urban           72.7         Tertiary   \n",
       "1  Female                6.8       No  Urban           62.0          Primary   \n",
       "2  Female                9.7       No  Rural           95.0        Secondary   \n",
       "5  Female                7.9       No  Urban           73.7         Tertiary   \n",
       "6  Female                7.6       No  Urban           79.5        Secondary   \n",
       "\n",
       "   Exam_Score  \n",
       "0        43.5  \n",
       "1        51.7  \n",
       "2        70.1  \n",
       "5        58.8  \n",
       "6        64.8  "
      ]
     },
     "execution_count": 2,
     "metadata": {},
     "output_type": "execute_result"
    }
   ],
   "source": [
    "df = pd.read_csv(\"student-academic-performance.csv\")\n",
    "df.drop_duplicates(inplace=True)\n",
    "df.dropna(inplace=True)\n",
    "df.head()"
   ]
  },
  {
   "cell_type": "markdown",
   "id": "1804d6e5",
   "metadata": {},
   "source": [
    "One-hot Encoding on: Gender, Tutoring, Region, Parent Education"
   ]
  },
  {
   "cell_type": "code",
   "execution_count": 3,
   "id": "96cc9c11",
   "metadata": {},
   "outputs": [],
   "source": [
    "def exam_class(score):\n",
    "    if score >= 85:\n",
    "        return \"High\"\n",
    "    elif score >= 60:\n",
    "        return \"Medium\"\n",
    "    else:\n",
    "        return \"Low\"\n",
    "\n",
    "df[\"ScoreClass\"] = df[\"Exam_Score\"].apply(exam_class)\n",
    "class_map = {\"Low\": 0, \"Medium\": 1, \"High\": 2}\n",
    "df[\"ScoreClassNum\"] = df[\"ScoreClass\"].map(class_map)\n",
    "\n",
    "categoricals = [\"Gender\", \"Tutoring\", \"Region\", \"Parent Education\"]\n",
    "df_encoded = pd.get_dummies(df, columns=categoricals, drop_first=True)\n",
    "\n",
    "X = df_encoded.drop([\"Exam_Score\", \"ScoreClass\", \"ScoreClassNum\"], axis=1)\n",
    "y_reg = df_encoded[\"Exam_Score\"]\n",
    "y_clf = df_encoded[\"ScoreClassNum\"]\n",
    "\n",
    "X_train, X_test, y_reg_train, y_reg_test, y_clf_train, y_clf_test = train_test_split(\n",
    "    X, y_reg, y_clf, test_size=0.3, random_state=42, stratify=y_clf\n",
    ")\n",
    "\n",
    "scaler = StandardScaler()\n",
    "X_train_scaled = scaler.fit_transform(X_train)\n",
    "X_test_scaled = scaler.transform(X_test)"
   ]
  },
  {
   "cell_type": "markdown",
   "id": "cc22755f",
   "metadata": {},
   "source": [
    "Regression:"
   ]
  },
  {
   "cell_type": "code",
   "execution_count": 4,
   "id": "8a8dd8d1",
   "metadata": {},
   "outputs": [
    {
     "data": {
      "application/vnd.plotly.v1+json": {
       "config": {
        "plotlyServerURL": "https://plot.ly"
       },
       "data": [
        {
         "cells": {
          "align": "center",
          "fill": {
           "color": [
            [
             "#f0f8ff",
             "#e6f3ff"
            ]
           ]
          },
          "font": {
           "color": "black",
           "size": 12
          },
          "height": 30,
          "values": [
           [
            "Linear Regression",
            "Decision Tree Regressor"
           ],
           [
            3.95,
            5.91
           ],
           [
            4.96,
            7.58
           ],
           [
            0.91,
            0.79
           ]
          ]
         },
         "header": {
          "align": "center",
          "fill": {
           "color": "#004c6d"
          },
          "font": {
           "color": "white",
           "size": 14
          },
          "height": 35,
          "values": [
           "Model",
           "MAE",
           "RMSE",
           "R²"
          ]
         },
         "type": "table"
        }
       ],
       "layout": {
        "height": 300,
        "margin": {
         "b": 0,
         "l": 0,
         "r": 0,
         "t": 30
        },
        "template": {
         "data": {
          "bar": [
           {
            "error_x": {
             "color": "#2a3f5f"
            },
            "error_y": {
             "color": "#2a3f5f"
            },
            "marker": {
             "line": {
              "color": "#E5ECF6",
              "width": 0.5
             },
             "pattern": {
              "fillmode": "overlay",
              "size": 10,
              "solidity": 0.2
             }
            },
            "type": "bar"
           }
          ],
          "barpolar": [
           {
            "marker": {
             "line": {
              "color": "#E5ECF6",
              "width": 0.5
             },
             "pattern": {
              "fillmode": "overlay",
              "size": 10,
              "solidity": 0.2
             }
            },
            "type": "barpolar"
           }
          ],
          "carpet": [
           {
            "aaxis": {
             "endlinecolor": "#2a3f5f",
             "gridcolor": "white",
             "linecolor": "white",
             "minorgridcolor": "white",
             "startlinecolor": "#2a3f5f"
            },
            "baxis": {
             "endlinecolor": "#2a3f5f",
             "gridcolor": "white",
             "linecolor": "white",
             "minorgridcolor": "white",
             "startlinecolor": "#2a3f5f"
            },
            "type": "carpet"
           }
          ],
          "choropleth": [
           {
            "colorbar": {
             "outlinewidth": 0,
             "ticks": ""
            },
            "type": "choropleth"
           }
          ],
          "contour": [
           {
            "colorbar": {
             "outlinewidth": 0,
             "ticks": ""
            },
            "colorscale": [
             [
              0,
              "#0d0887"
             ],
             [
              0.1111111111111111,
              "#46039f"
             ],
             [
              0.2222222222222222,
              "#7201a8"
             ],
             [
              0.3333333333333333,
              "#9c179e"
             ],
             [
              0.4444444444444444,
              "#bd3786"
             ],
             [
              0.5555555555555556,
              "#d8576b"
             ],
             [
              0.6666666666666666,
              "#ed7953"
             ],
             [
              0.7777777777777778,
              "#fb9f3a"
             ],
             [
              0.8888888888888888,
              "#fdca26"
             ],
             [
              1,
              "#f0f921"
             ]
            ],
            "type": "contour"
           }
          ],
          "contourcarpet": [
           {
            "colorbar": {
             "outlinewidth": 0,
             "ticks": ""
            },
            "type": "contourcarpet"
           }
          ],
          "heatmap": [
           {
            "colorbar": {
             "outlinewidth": 0,
             "ticks": ""
            },
            "colorscale": [
             [
              0,
              "#0d0887"
             ],
             [
              0.1111111111111111,
              "#46039f"
             ],
             [
              0.2222222222222222,
              "#7201a8"
             ],
             [
              0.3333333333333333,
              "#9c179e"
             ],
             [
              0.4444444444444444,
              "#bd3786"
             ],
             [
              0.5555555555555556,
              "#d8576b"
             ],
             [
              0.6666666666666666,
              "#ed7953"
             ],
             [
              0.7777777777777778,
              "#fb9f3a"
             ],
             [
              0.8888888888888888,
              "#fdca26"
             ],
             [
              1,
              "#f0f921"
             ]
            ],
            "type": "heatmap"
           }
          ],
          "histogram": [
           {
            "marker": {
             "pattern": {
              "fillmode": "overlay",
              "size": 10,
              "solidity": 0.2
             }
            },
            "type": "histogram"
           }
          ],
          "histogram2d": [
           {
            "colorbar": {
             "outlinewidth": 0,
             "ticks": ""
            },
            "colorscale": [
             [
              0,
              "#0d0887"
             ],
             [
              0.1111111111111111,
              "#46039f"
             ],
             [
              0.2222222222222222,
              "#7201a8"
             ],
             [
              0.3333333333333333,
              "#9c179e"
             ],
             [
              0.4444444444444444,
              "#bd3786"
             ],
             [
              0.5555555555555556,
              "#d8576b"
             ],
             [
              0.6666666666666666,
              "#ed7953"
             ],
             [
              0.7777777777777778,
              "#fb9f3a"
             ],
             [
              0.8888888888888888,
              "#fdca26"
             ],
             [
              1,
              "#f0f921"
             ]
            ],
            "type": "histogram2d"
           }
          ],
          "histogram2dcontour": [
           {
            "colorbar": {
             "outlinewidth": 0,
             "ticks": ""
            },
            "colorscale": [
             [
              0,
              "#0d0887"
             ],
             [
              0.1111111111111111,
              "#46039f"
             ],
             [
              0.2222222222222222,
              "#7201a8"
             ],
             [
              0.3333333333333333,
              "#9c179e"
             ],
             [
              0.4444444444444444,
              "#bd3786"
             ],
             [
              0.5555555555555556,
              "#d8576b"
             ],
             [
              0.6666666666666666,
              "#ed7953"
             ],
             [
              0.7777777777777778,
              "#fb9f3a"
             ],
             [
              0.8888888888888888,
              "#fdca26"
             ],
             [
              1,
              "#f0f921"
             ]
            ],
            "type": "histogram2dcontour"
           }
          ],
          "mesh3d": [
           {
            "colorbar": {
             "outlinewidth": 0,
             "ticks": ""
            },
            "type": "mesh3d"
           }
          ],
          "parcoords": [
           {
            "line": {
             "colorbar": {
              "outlinewidth": 0,
              "ticks": ""
             }
            },
            "type": "parcoords"
           }
          ],
          "pie": [
           {
            "automargin": true,
            "type": "pie"
           }
          ],
          "scatter": [
           {
            "fillpattern": {
             "fillmode": "overlay",
             "size": 10,
             "solidity": 0.2
            },
            "type": "scatter"
           }
          ],
          "scatter3d": [
           {
            "line": {
             "colorbar": {
              "outlinewidth": 0,
              "ticks": ""
             }
            },
            "marker": {
             "colorbar": {
              "outlinewidth": 0,
              "ticks": ""
             }
            },
            "type": "scatter3d"
           }
          ],
          "scattercarpet": [
           {
            "marker": {
             "colorbar": {
              "outlinewidth": 0,
              "ticks": ""
             }
            },
            "type": "scattercarpet"
           }
          ],
          "scattergeo": [
           {
            "marker": {
             "colorbar": {
              "outlinewidth": 0,
              "ticks": ""
             }
            },
            "type": "scattergeo"
           }
          ],
          "scattergl": [
           {
            "marker": {
             "colorbar": {
              "outlinewidth": 0,
              "ticks": ""
             }
            },
            "type": "scattergl"
           }
          ],
          "scattermap": [
           {
            "marker": {
             "colorbar": {
              "outlinewidth": 0,
              "ticks": ""
             }
            },
            "type": "scattermap"
           }
          ],
          "scattermapbox": [
           {
            "marker": {
             "colorbar": {
              "outlinewidth": 0,
              "ticks": ""
             }
            },
            "type": "scattermapbox"
           }
          ],
          "scatterpolar": [
           {
            "marker": {
             "colorbar": {
              "outlinewidth": 0,
              "ticks": ""
             }
            },
            "type": "scatterpolar"
           }
          ],
          "scatterpolargl": [
           {
            "marker": {
             "colorbar": {
              "outlinewidth": 0,
              "ticks": ""
             }
            },
            "type": "scatterpolargl"
           }
          ],
          "scatterternary": [
           {
            "marker": {
             "colorbar": {
              "outlinewidth": 0,
              "ticks": ""
             }
            },
            "type": "scatterternary"
           }
          ],
          "surface": [
           {
            "colorbar": {
             "outlinewidth": 0,
             "ticks": ""
            },
            "colorscale": [
             [
              0,
              "#0d0887"
             ],
             [
              0.1111111111111111,
              "#46039f"
             ],
             [
              0.2222222222222222,
              "#7201a8"
             ],
             [
              0.3333333333333333,
              "#9c179e"
             ],
             [
              0.4444444444444444,
              "#bd3786"
             ],
             [
              0.5555555555555556,
              "#d8576b"
             ],
             [
              0.6666666666666666,
              "#ed7953"
             ],
             [
              0.7777777777777778,
              "#fb9f3a"
             ],
             [
              0.8888888888888888,
              "#fdca26"
             ],
             [
              1,
              "#f0f921"
             ]
            ],
            "type": "surface"
           }
          ],
          "table": [
           {
            "cells": {
             "fill": {
              "color": "#EBF0F8"
             },
             "line": {
              "color": "white"
             }
            },
            "header": {
             "fill": {
              "color": "#C8D4E3"
             },
             "line": {
              "color": "white"
             }
            },
            "type": "table"
           }
          ]
         },
         "layout": {
          "annotationdefaults": {
           "arrowcolor": "#2a3f5f",
           "arrowhead": 0,
           "arrowwidth": 1
          },
          "autotypenumbers": "strict",
          "coloraxis": {
           "colorbar": {
            "outlinewidth": 0,
            "ticks": ""
           }
          },
          "colorscale": {
           "diverging": [
            [
             0,
             "#8e0152"
            ],
            [
             0.1,
             "#c51b7d"
            ],
            [
             0.2,
             "#de77ae"
            ],
            [
             0.3,
             "#f1b6da"
            ],
            [
             0.4,
             "#fde0ef"
            ],
            [
             0.5,
             "#f7f7f7"
            ],
            [
             0.6,
             "#e6f5d0"
            ],
            [
             0.7,
             "#b8e186"
            ],
            [
             0.8,
             "#7fbc41"
            ],
            [
             0.9,
             "#4d9221"
            ],
            [
             1,
             "#276419"
            ]
           ],
           "sequential": [
            [
             0,
             "#0d0887"
            ],
            [
             0.1111111111111111,
             "#46039f"
            ],
            [
             0.2222222222222222,
             "#7201a8"
            ],
            [
             0.3333333333333333,
             "#9c179e"
            ],
            [
             0.4444444444444444,
             "#bd3786"
            ],
            [
             0.5555555555555556,
             "#d8576b"
            ],
            [
             0.6666666666666666,
             "#ed7953"
            ],
            [
             0.7777777777777778,
             "#fb9f3a"
            ],
            [
             0.8888888888888888,
             "#fdca26"
            ],
            [
             1,
             "#f0f921"
            ]
           ],
           "sequentialminus": [
            [
             0,
             "#0d0887"
            ],
            [
             0.1111111111111111,
             "#46039f"
            ],
            [
             0.2222222222222222,
             "#7201a8"
            ],
            [
             0.3333333333333333,
             "#9c179e"
            ],
            [
             0.4444444444444444,
             "#bd3786"
            ],
            [
             0.5555555555555556,
             "#d8576b"
            ],
            [
             0.6666666666666666,
             "#ed7953"
            ],
            [
             0.7777777777777778,
             "#fb9f3a"
            ],
            [
             0.8888888888888888,
             "#fdca26"
            ],
            [
             1,
             "#f0f921"
            ]
           ]
          },
          "colorway": [
           "#636efa",
           "#EF553B",
           "#00cc96",
           "#ab63fa",
           "#FFA15A",
           "#19d3f3",
           "#FF6692",
           "#B6E880",
           "#FF97FF",
           "#FECB52"
          ],
          "font": {
           "color": "#2a3f5f"
          },
          "geo": {
           "bgcolor": "white",
           "lakecolor": "white",
           "landcolor": "#E5ECF6",
           "showlakes": true,
           "showland": true,
           "subunitcolor": "white"
          },
          "hoverlabel": {
           "align": "left"
          },
          "hovermode": "closest",
          "mapbox": {
           "style": "light"
          },
          "paper_bgcolor": "white",
          "plot_bgcolor": "#E5ECF6",
          "polar": {
           "angularaxis": {
            "gridcolor": "white",
            "linecolor": "white",
            "ticks": ""
           },
           "bgcolor": "#E5ECF6",
           "radialaxis": {
            "gridcolor": "white",
            "linecolor": "white",
            "ticks": ""
           }
          },
          "scene": {
           "xaxis": {
            "backgroundcolor": "#E5ECF6",
            "gridcolor": "white",
            "gridwidth": 2,
            "linecolor": "white",
            "showbackground": true,
            "ticks": "",
            "zerolinecolor": "white"
           },
           "yaxis": {
            "backgroundcolor": "#E5ECF6",
            "gridcolor": "white",
            "gridwidth": 2,
            "linecolor": "white",
            "showbackground": true,
            "ticks": "",
            "zerolinecolor": "white"
           },
           "zaxis": {
            "backgroundcolor": "#E5ECF6",
            "gridcolor": "white",
            "gridwidth": 2,
            "linecolor": "white",
            "showbackground": true,
            "ticks": "",
            "zerolinecolor": "white"
           }
          },
          "shapedefaults": {
           "line": {
            "color": "#2a3f5f"
           }
          },
          "ternary": {
           "aaxis": {
            "gridcolor": "white",
            "linecolor": "white",
            "ticks": ""
           },
           "baxis": {
            "gridcolor": "white",
            "linecolor": "white",
            "ticks": ""
           },
           "bgcolor": "#E5ECF6",
           "caxis": {
            "gridcolor": "white",
            "linecolor": "white",
            "ticks": ""
           }
          },
          "title": {
           "x": 0.05
          },
          "xaxis": {
           "automargin": true,
           "gridcolor": "white",
           "linecolor": "white",
           "ticks": "",
           "title": {
            "standoff": 15
           },
           "zerolinecolor": "white",
           "zerolinewidth": 2
          },
          "yaxis": {
           "automargin": true,
           "gridcolor": "white",
           "linecolor": "white",
           "ticks": "",
           "title": {
            "standoff": 15
           },
           "zerolinecolor": "white",
           "zerolinewidth": 2
          }
         }
        },
        "width": 600
       }
      }
     },
     "metadata": {},
     "output_type": "display_data"
    },
    {
     "name": "stderr",
     "output_type": "stream",
     "text": [
      "c:\\Users\\ELECOMP\\AppData\\Local\\Programs\\Python\\Python311\\Lib\\site-packages\\IPython\\core\\pylabtools.py:77: DeprecationWarning:\n",
      "\n",
      "backend2gui is deprecated since IPython 8.24, backends are managed in matplotlib and can be externally registered.\n",
      "\n",
      "c:\\Users\\ELECOMP\\AppData\\Local\\Programs\\Python\\Python311\\Lib\\site-packages\\IPython\\core\\pylabtools.py:77: DeprecationWarning:\n",
      "\n",
      "backend2gui is deprecated since IPython 8.24, backends are managed in matplotlib and can be externally registered.\n",
      "\n",
      "c:\\Users\\ELECOMP\\AppData\\Local\\Programs\\Python\\Python311\\Lib\\site-packages\\IPython\\core\\pylabtools.py:77: DeprecationWarning:\n",
      "\n",
      "backend2gui is deprecated since IPython 8.24, backends are managed in matplotlib and can be externally registered.\n",
      "\n"
     ]
    },
    {
     "data": {
      "image/png": "[encoded data removed]",
      "text/plain": [
       "<Figure size 600x500 with 1 Axes>"
      ]
     },
     "metadata": {},
     "output_type": "display_data"
    }
   ],
   "source": [
    "def evaluate_regression_models_plotly(models, X_train, X_test, y_train, y_test):\n",
    "    results = []\n",
    "    y_preds = {} \n",
    "\n",
    "    for name, model, use_scaled in models:\n",
    "        if use_scaled:\n",
    "            model.fit(X_train_scaled, y_train)\n",
    "            y_pred = model.predict(X_test_scaled)\n",
    "        else:\n",
    "            model.fit(X_train, y_train)\n",
    "            y_pred = model.predict(X_test)\n",
    "        \n",
    "        y_preds[name] = y_pred\n",
    "\n",
    "        mae = mean_absolute_error(y_test, y_pred)\n",
    "        rmse = root_mean_squared_error(y_test, y_pred)\n",
    "        r2 = r2_score(y_test, y_pred)\n",
    "        results.append([name, round(mae, 2), round(rmse, 2), round(r2, 3)])\n",
    "    \n",
    "    df_results = pd.DataFrame(results, columns=[\"Model\", \"MAE\", \"RMSE\", \"R²\"])\n",
    "\n",
    "    fig = go.Figure(data=[go.Table(\n",
    "        header=dict(\n",
    "            values=list(df_results.columns),\n",
    "            fill_color='#004c6d',\n",
    "            align='center',\n",
    "            font=dict(color='white', size=14),\n",
    "            height=35\n",
    "        ),\n",
    "        cells=dict(\n",
    "            values=[df_results[col] for col in df_results.columns],\n",
    "            fill_color=[['#f0f8ff' if i%2==0 else '#e6f3ff' for i in range(len(df_results))]],\n",
    "            align='center',\n",
    "            font=dict(color='black', size=12),\n",
    "            height=30\n",
    "        )\n",
    "    )])\n",
    "\n",
    "    fig.update_layout(width=600, height=300, margin=dict(l=0, r=0, t=30, b=0))\n",
    "    fig.show()\n",
    "\n",
    "    return y_preds \n",
    "\n",
    "regression_models = [\n",
    "    (\"Linear Regression\", LinearRegression(), True),\n",
    "    (\"Decision Tree Regressor\", DecisionTreeRegressor(random_state=42), False) \n",
    "]\n",
    "\n",
    "y_preds = evaluate_regression_models_plotly(\n",
    "    regression_models, \n",
    "    X_train, X_test, \n",
    "    y_reg_train, y_reg_test\n",
    ")\n",
    "\n",
    "y_pred_lin = y_preds[\"Linear Regression\"]\n",
    "y_pred_tree = y_preds[\"Decision Tree Regressor\"]\n",
    "\n",
    "plt.figure(figsize=(6, 5))\n",
    "sns.scatterplot(x=y_reg_test, y=y_pred_lin, color=\"#be2d62\", label=\"Linear Regression\", alpha=0.7)\n",
    "sns.scatterplot(x=y_reg_test, y=y_pred_tree, color=\"#3092bc\", label=\"Decision Tree\", alpha=0.7)\n",
    "plt.plot([y_reg_test.min(), y_reg_test.max()],\n",
    "         [y_reg_test.min(), y_reg_test.max()],\n",
    "         'k--', lw=2)\n",
    "plt.xlabel(\"Actual Exam Score\")\n",
    "plt.ylabel(\"Predicted Exam Score\")\n",
    "plt.title(\"Regression Models Comparison\")\n",
    "plt.legend()\n",
    "plt.show()\n"
   ]
  },
  {
   "cell_type": "markdown",
   "id": "b5399996",
   "metadata": {},
   "source": [
    "Classification"
   ]
  },
  {
   "cell_type": "code",
   "execution_count": 5,
   "id": "96d3e93e",
   "metadata": {},
   "outputs": [
    {
     "data": {
      "application/vnd.plotly.v1+json": {
       "config": {
        "plotlyServerURL": "https://plot.ly"
       },
       "data": [
        {
         "cells": {
          "align": "center",
          "fill": {
           "color": [
            [
             "#f0f8ff",
             "#e6f3ff"
            ]
           ]
          },
          "font": {
           "color": "black",
           "size": 12
          },
          "height": 30,
          "values": [
           [
            "Logistic Regression",
            "Decision Tree Classifier"
           ],
           [
            0.858,
            0.778
           ],
           [
            0.858,
            0.78
           ],
           [
            0.858,
            0.778
           ],
           [
            0.858,
            0.778
           ]
          ]
         },
         "header": {
          "align": "center",
          "fill": {
           "color": "#104054"
          },
          "font": {
           "color": "white",
           "size": 14
          },
          "height": 35,
          "values": [
           "Model",
           "Accuracy",
           "Precision",
           "Recall",
           "F1-Score"
          ]
         },
         "type": "table"
        }
       ],
       "layout": {
        "height": 320,
        "margin": {
         "b": 0,
         "l": 0,
         "r": 0,
         "t": 30
        },
        "template": {
         "data": {
          "bar": [
           {
            "error_x": {
             "color": "#2a3f5f"
            },
            "error_y": {
             "color": "#2a3f5f"
            },
            "marker": {
             "line": {
              "color": "#E5ECF6",
              "width": 0.5
             },
             "pattern": {
              "fillmode": "overlay",
              "size": 10,
              "solidity": 0.2
             }
            },
            "type": "bar"
           }
          ],
          "barpolar": [
           {
            "marker": {
             "line": {
              "color": "#E5ECF6",
              "width": 0.5
             },
             "pattern": {
              "fillmode": "overlay",
              "size": 10,
              "solidity": 0.2
             }
            },
            "type": "barpolar"
           }
          ],
          "carpet": [
           {
            "aaxis": {
             "endlinecolor": "#2a3f5f",
             "gridcolor": "white",
             "linecolor": "white",
             "minorgridcolor": "white",
             "startlinecolor": "#2a3f5f"
            },
            "baxis": {
             "endlinecolor": "#2a3f5f",
             "gridcolor": "white",
             "linecolor": "white",
             "minorgridcolor": "white",
             "startlinecolor": "#2a3f5f"
            },
            "type": "carpet"
           }
          ],
          "choropleth": [
           {
            "colorbar": {
             "outlinewidth": 0,
             "ticks": ""
            },
            "type": "choropleth"
           }
          ],
          "contour": [
           {
            "colorbar": {
             "outlinewidth": 0,
             "ticks": ""
            },
            "colorscale": [
             [
              0,
              "#0d0887"
             ],
             [
              0.1111111111111111,
              "#46039f"
             ],
             [
              0.2222222222222222,
              "#7201a8"
             ],
             [
              0.3333333333333333,
              "#9c179e"
             ],
             [
              0.4444444444444444,
              "#bd3786"
             ],
             [
              0.5555555555555556,
              "#d8576b"
             ],
             [
              0.6666666666666666,
              "#ed7953"
             ],
             [
              0.7777777777777778,
              "#fb9f3a"
             ],
             [
              0.8888888888888888,
              "#fdca26"
             ],
             [
              1,
              "#f0f921"
             ]
            ],
            "type": "contour"
           }
          ],
          "contourcarpet": [
           {
            "colorbar": {
             "outlinewidth": 0,
             "ticks": ""
            },
            "type": "contourcarpet"
           }
          ],
          "heatmap": [
           {
            "colorbar": {
             "outlinewidth": 0,
             "ticks": ""
            },
            "colorscale": [
             [
              0,
              "#0d0887"
             ],
             [
              0.1111111111111111,
              "#46039f"
             ],
             [
              0.2222222222222222,
              "#7201a8"
             ],
             [
              0.3333333333333333,
              "#9c179e"
             ],
             [
              0.4444444444444444,
              "#bd3786"
             ],
             [
              0.5555555555555556,
              "#d8576b"
             ],
             [
              0.6666666666666666,
              "#ed7953"
             ],
             [
              0.7777777777777778,
              "#fb9f3a"
             ],
             [
              0.8888888888888888,
              "#fdca26"
             ],
             [
              1,
              "#f0f921"
             ]
            ],
            "type": "heatmap"
           }
          ],
          "histogram": [
           {
            "marker": {
             "pattern": {
              "fillmode": "overlay",
              "size": 10,
              "solidity": 0.2
             }
            },
            "type": "histogram"
           }
          ],
          "histogram2d": [
           {
            "colorbar": {
             "outlinewidth": 0,
             "ticks": ""
            },
            "colorscale": [
             [
              0,
              "#0d0887"
             ],
             [
              0.1111111111111111,
              "#46039f"
             ],
             [
              0.2222222222222222,
              "#7201a8"
             ],
             [
              0.3333333333333333,
              "#9c179e"
             ],
             [
              0.4444444444444444,
              "#bd3786"
             ],
             [
              0.5555555555555556,
              "#d8576b"
             ],
             [
              0.6666666666666666,
              "#ed7953"
             ],
             [
              0.7777777777777778,
              "#fb9f3a"
             ],
             [
              0.8888888888888888,
              "#fdca26"
             ],
             [
              1,
              "#f0f921"
             ]
            ],
            "type": "histogram2d"
           }
          ],
          "histogram2dcontour": [
           {
            "colorbar": {
             "outlinewidth": 0,
             "ticks": ""
            },
            "colorscale": [
             [
              0,
              "#0d0887"
             ],
             [
              0.1111111111111111,
              "#46039f"
             ],
             [
              0.2222222222222222,
              "#7201a8"
             ],
             [
              0.3333333333333333,
              "#9c179e"
             ],
             [
              0.4444444444444444,
              "#bd3786"
             ],
             [
              0.5555555555555556,
              "#d8576b"
             ],
             [
              0.6666666666666666,
              "#ed7953"
             ],
             [
              0.7777777777777778,
              "#fb9f3a"
             ],
             [
              0.8888888888888888,
              "#fdca26"
             ],
             [
              1,
              "#f0f921"
             ]
            ],
            "type": "histogram2dcontour"
           }
          ],
          "mesh3d": [
           {
            "colorbar": {
             "outlinewidth": 0,
             "ticks": ""
            },
            "type": "mesh3d"
           }
          ],
          "parcoords": [
           {
            "line": {
             "colorbar": {
              "outlinewidth": 0,
              "ticks": ""
             }
            },
            "type": "parcoords"
           }
          ],
          "pie": [
           {
            "automargin": true,
            "type": "pie"
           }
          ],
          "scatter": [
           {
            "fillpattern": {
             "fillmode": "overlay",
             "size": 10,
             "solidity": 0.2
            },
            "type": "scatter"
           }
          ],
          "scatter3d": [
           {
            "line": {
             "colorbar": {
              "outlinewidth": 0,
              "ticks": ""
             }
            },
            "marker": {
             "colorbar": {
              "outlinewidth": 0,
              "ticks": ""
             }
            },
            "type": "scatter3d"
           }
          ],
          "scattercarpet": [
           {
            "marker": {
             "colorbar": {
              "outlinewidth": 0,
              "ticks": ""
             }
            },
            "type": "scattercarpet"
           }
          ],
          "scattergeo": [
           {
            "marker": {
             "colorbar": {
              "outlinewidth": 0,
              "ticks": ""
             }
            },
            "type": "scattergeo"
           }
          ],
          "scattergl": [
           {
            "marker": {
             "colorbar": {
              "outlinewidth": 0,
              "ticks": ""
             }
            },
            "type": "scattergl"
           }
          ],
          "scattermap": [
           {
            "marker": {
             "colorbar": {
              "outlinewidth": 0,
              "ticks": ""
             }
            },
            "type": "scattermap"
           }
          ],
          "scattermapbox": [
           {
            "marker": {
             "colorbar": {
              "outlinewidth": 0,
              "ticks": ""
             }
            },
            "type": "scattermapbox"
           }
          ],
          "scatterpolar": [
           {
            "marker": {
             "colorbar": {
              "outlinewidth": 0,
              "ticks": ""
             }
            },
            "type": "scatterpolar"
           }
          ],
          "scatterpolargl": [
           {
            "marker": {
             "colorbar": {
              "outlinewidth": 0,
              "ticks": ""
             }
            },
            "type": "scatterpolargl"
           }
          ],
          "scatterternary": [
           {
            "marker": {
             "colorbar": {
              "outlinewidth": 0,
              "ticks": ""
             }
            },
            "type": "scatterternary"
           }
          ],
          "surface": [
           {
            "colorbar": {
             "outlinewidth": 0,
             "ticks": ""
            },
            "colorscale": [
             [
              0,
              "#0d0887"
             ],
             [
              0.1111111111111111,
              "#46039f"
             ],
             [
              0.2222222222222222,
              "#7201a8"
             ],
             [
              0.3333333333333333,
              "#9c179e"
             ],
             [
              0.4444444444444444,
              "#bd3786"
             ],
             [
              0.5555555555555556,
              "#d8576b"
             ],
             [
              0.6666666666666666,
              "#ed7953"
             ],
             [
              0.7777777777777778,
              "#fb9f3a"
             ],
             [
              0.8888888888888888,
              "#fdca26"
             ],
             [
              1,
              "#f0f921"
             ]
            ],
            "type": "surface"
           }
          ],
          "table": [
           {
            "cells": {
             "fill": {
              "color": "#EBF0F8"
             },
             "line": {
              "color": "white"
             }
            },
            "header": {
             "fill": {
              "color": "#C8D4E3"
             },
             "line": {
              "color": "white"
             }
            },
            "type": "table"
           }
          ]
         },
         "layout": {
          "annotationdefaults": {
           "arrowcolor": "#2a3f5f",
           "arrowhead": 0,
           "arrowwidth": 1
          },
          "autotypenumbers": "strict",
          "coloraxis": {
           "colorbar": {
            "outlinewidth": 0,
            "ticks": ""
           }
          },
          "colorscale": {
           "diverging": [
            [
             0,
             "#8e0152"
            ],
            [
             0.1,
             "#c51b7d"
            ],
            [
             0.2,
             "#de77ae"
            ],
            [
             0.3,
             "#f1b6da"
            ],
            [
             0.4,
             "#fde0ef"
            ],
            [
             0.5,
             "#f7f7f7"
            ],
            [
             0.6,
             "#e6f5d0"
            ],
            [
             0.7,
             "#b8e186"
            ],
            [
             0.8,
             "#7fbc41"
            ],
            [
             0.9,
             "#4d9221"
            ],
            [
             1,
             "#276419"
            ]
           ],
           "sequential": [
            [
             0,
             "#0d0887"
            ],
            [
             0.1111111111111111,
             "#46039f"
            ],
            [
             0.2222222222222222,
             "#7201a8"
            ],
            [
             0.3333333333333333,
             "#9c179e"
            ],
            [
             0.4444444444444444,
             "#bd3786"
            ],
            [
             0.5555555555555556,
             "#d8576b"
            ],
            [
             0.6666666666666666,
             "#ed7953"
            ],
            [
             0.7777777777777778,
             "#fb9f3a"
            ],
            [
             0.8888888888888888,
             "#fdca26"
            ],
            [
             1,
             "#f0f921"
            ]
           ],
           "sequentialminus": [
            [
             0,
             "#0d0887"
            ],
            [
             0.1111111111111111,
             "#46039f"
            ],
            [
             0.2222222222222222,
             "#7201a8"
            ],
            [
             0.3333333333333333,
             "#9c179e"
            ],
            [
             0.4444444444444444,
             "#bd3786"
            ],
            [
             0.5555555555555556,
             "#d8576b"
            ],
            [
             0.6666666666666666,
             "#ed7953"
            ],
            [
             0.7777777777777778,
             "#fb9f3a"
            ],
            [
             0.8888888888888888,
             "#fdca26"
            ],
            [
             1,
             "#f0f921"
            ]
           ]
          },
          "colorway": [
           "#636efa",
           "#EF553B",
           "#00cc96",
           "#ab63fa",
           "#FFA15A",
           "#19d3f3",
           "#FF6692",
           "#B6E880",
           "#FF97FF",
           "#FECB52"
          ],
          "font": {
           "color": "#2a3f5f"
          },
          "geo": {
           "bgcolor": "white",
           "lakecolor": "white",
           "landcolor": "#E5ECF6",
           "showlakes": true,
           "showland": true,
           "subunitcolor": "white"
          },
          "hoverlabel": {
           "align": "left"
          },
          "hovermode": "closest",
          "mapbox": {
           "style": "light"
          },
          "paper_bgcolor": "white",
          "plot_bgcolor": "#E5ECF6",
          "polar": {
           "angularaxis": {
            "gridcolor": "white",
            "linecolor": "white",
            "ticks": ""
           },
           "bgcolor": "#E5ECF6",
           "radialaxis": {
            "gridcolor": "white",
            "linecolor": "white",
            "ticks": ""
           }
          },
          "scene": {
           "xaxis": {
            "backgroundcolor": "#E5ECF6",
            "gridcolor": "white",
            "gridwidth": 2,
            "linecolor": "white",
            "showbackground": true,
            "ticks": "",
            "zerolinecolor": "white"
           },
           "yaxis": {
            "backgroundcolor": "#E5ECF6",
            "gridcolor": "white",
            "gridwidth": 2,
            "linecolor": "white",
            "showbackground": true,
            "ticks": "",
            "zerolinecolor": "white"
           },
           "zaxis": {
            "backgroundcolor": "#E5ECF6",
            "gridcolor": "white",
            "gridwidth": 2,
            "linecolor": "white",
            "showbackground": true,
            "ticks": "",
            "zerolinecolor": "white"
           }
          },
          "shapedefaults": {
           "line": {
            "color": "#2a3f5f"
           }
          },
          "ternary": {
           "aaxis": {
            "gridcolor": "white",
            "linecolor": "white",
            "ticks": ""
           },
           "baxis": {
            "gridcolor": "white",
            "linecolor": "white",
            "ticks": ""
           },
           "bgcolor": "#E5ECF6",
           "caxis": {
            "gridcolor": "white",
            "linecolor": "white",
            "ticks": ""
           }
          },
          "title": {
           "x": 0.05
          },
          "xaxis": {
           "automargin": true,
           "gridcolor": "white",
           "linecolor": "white",
           "ticks": "",
           "title": {
            "standoff": 15
           },
           "zerolinecolor": "white",
           "zerolinewidth": 2
          },
          "yaxis": {
           "automargin": true,
           "gridcolor": "white",
           "linecolor": "white",
           "ticks": "",
           "title": {
            "standoff": 15
           },
           "zerolinecolor": "white",
           "zerolinewidth": 2
          }
         }
        },
        "width": 750
       }
      }
     },
     "metadata": {},
     "output_type": "display_data"
    },
    {
     "data": {
      "image/png": "[encoded data removed]",
      "text/plain": [
       "<Figure size 1200x500 with 2 Axes>"
      ]
     },
     "metadata": {},
     "output_type": "display_data"
    }
   ],
   "source": [
    "log_reg = LogisticRegression(max_iter=1000, multi_class='auto', solver='lbfgs')\n",
    "log_reg.fit(X_train_scaled, y_clf_train)\n",
    "y_pred_log = log_reg.predict(X_test_scaled)\n",
    "\n",
    "tree_clf = DecisionTreeClassifier(random_state=42)\n",
    "tree_clf.fit(X_train, y_clf_train)  \n",
    "y_pred_tree_clf = tree_clf.predict(X_test)\n",
    "\n",
    "def evaluate_classification_models_plotly(models, X_train, X_test, y_train, y_test):\n",
    "    results = []\n",
    "    for name, model, use_scaled, average_type in models:\n",
    "        if use_scaled:\n",
    "            model.fit(X_train_scaled, y_train)\n",
    "            y_pred = model.predict(X_test_scaled)\n",
    "        else:\n",
    "            model.fit(X_train, y_train)\n",
    "            y_pred = model.predict(X_test)\n",
    "        \n",
    "        acc = accuracy_score(y_test, y_pred)\n",
    "        precision = precision_score(y_test, y_pred, average=average_type)\n",
    "        recall = recall_score(y_test, y_pred, average=average_type)\n",
    "        f1 = f1_score(y_test, y_pred, average=average_type)\n",
    "        \n",
    "        results.append([\n",
    "            name, round(acc, 3), round(precision, 3), round(recall, 3), round(f1, 3)\n",
    "        ])\n",
    "    \n",
    "    df_results = pd.DataFrame(results, \n",
    "                               columns=[\"Model\", \"Accuracy\", \"Precision\", \"Recall\", \"F1-Score\"])\n",
    "\n",
    "    fig = go.Figure(data=[go.Table(\n",
    "        header=dict(\n",
    "            values=list(df_results.columns),\n",
    "            fill_color=\"#104054\",\n",
    "            align='center',\n",
    "            font=dict(color='white', size=14),\n",
    "            height=35\n",
    "        ),\n",
    "        cells=dict(\n",
    "            values=[df_results[col] for col in df_results.columns],\n",
    "            fill_color=[['#f0f8ff' if i % 2 == 0 else '#e6f3ff' \n",
    "                         for i in range(len(df_results))]],\n",
    "            align='center',\n",
    "            font=dict(color='black', size=12),\n",
    "            height=30\n",
    "        )\n",
    "    )])\n",
    "\n",
    "    fig.update_layout(\n",
    "        width=750,\n",
    "        height=320,\n",
    "        margin=dict(l=0, r=0, t=30, b=0)\n",
    "    )\n",
    "\n",
    "    fig.show()\n",
    "\n",
    "classification_models = [\n",
    "    (\"Logistic Regression\", LogisticRegression(max_iter=1000), True, \"weighted\"),\n",
    "    (\"Decision Tree Classifier\", DecisionTreeClassifier(random_state=42), False, \"weighted\")\n",
    "]\n",
    "\n",
    "evaluate_classification_models_plotly(classification_models, \n",
    "                                      X_train, X_test, y_clf_train, y_clf_test)\n",
    "\n",
    "fig, axes = plt.subplots(1, 2, figsize=(12, 5))\n",
    "\n",
    "sns.heatmap(confusion_matrix(y_clf_test, y_pred_log), annot=True, fmt=\"d\",\n",
    "            cmap=\"Blues\", cbar=False, ax=axes[0])\n",
    "axes[0].set_title(\"Confusion Matrix - Logistic Regression\")\n",
    "axes[0].set_xlabel(\"Predicted\")\n",
    "axes[0].set_ylabel(\"Actual\")\n",
    "\n",
    "sns.heatmap(confusion_matrix(y_clf_test, y_pred_tree_clf), annot=True, fmt=\"d\",\n",
    "            cmap=\"Greens\", cbar=False, ax=axes[1])\n",
    "axes[1].set_title(\"Confusion Matrix - Decision Tree\")\n",
    "axes[1].set_xlabel(\"Predicted\")\n",
    "axes[1].set_ylabel(\"Actual\")\n",
    "\n",
    "plt.tight_layout()\n",
    "plt.show()\n"
   ]
  },
  {
   "cell_type": "markdown",
   "id": "242e1f08",
   "metadata": {},
   "source": [
    "Clustering"
   ]
  },
  {
   "cell_type": "code",
   "execution_count": 6,
   "id": "231cd579",
   "metadata": {},
   "outputs": [
    {
     "data": {
      "application/vnd.plotly.v1+json": {
       "config": {
        "plotlyServerURL": "https://plot.ly"
       },
       "data": [
        {
         "line": {
          "width": 2
         },
         "marker": {
          "color": "#1f77b4",
          "size": 8
         },
         "mode": "lines+markers",
         "name": "Inertia",
         "type": "scatter",
         "x": [
          2,
          3,
          4,
          5,
          6,
          7,
          8
         ],
         "y": [
          4996.070264363239,
          3292.980051371035,
          2335.866354837926,
          1930.5897256790927,
          1609.2971144895505,
          1343.1565354674553,
          1189.4079966822553
         ]
        }
       ],
       "layout": {
        "annotations": [
         {
          "showarrow": false,
          "text": "Optimal k = 4",
          "x": 4,
          "xanchor": "left",
          "xref": "x",
          "y": 1,
          "yanchor": "top",
          "yref": "y domain"
         }
        ],
        "height": 450,
        "shapes": [
         {
          "line": {
           "color": "red",
           "dash": "dash"
          },
          "type": "line",
          "x0": 4,
          "x1": 4,
          "xref": "x",
          "y0": 0,
          "y1": 1,
          "yref": "y domain"
         }
        ],
        "template": {
         "data": {
          "bar": [
           {
            "error_x": {
             "color": "#2a3f5f"
            },
            "error_y": {
             "color": "#2a3f5f"
            },
            "marker": {
             "line": {
              "color": "white",
              "width": 0.5
             },
             "pattern": {
              "fillmode": "overlay",
              "size": 10,
              "solidity": 0.2
             }
            },
            "type": "bar"
           }
          ],
          "barpolar": [
           {
            "marker": {
             "line": {
              "color": "white",
              "width": 0.5
             },
             "pattern": {
              "fillmode": "overlay",
              "size": 10,
              "solidity": 0.2
             }
            },
            "type": "barpolar"
           }
          ],
          "carpet": [
           {
            "aaxis": {
             "endlinecolor": "#2a3f5f",
             "gridcolor": "#C8D4E3",
             "linecolor": "#C8D4E3",
             "minorgridcolor": "#C8D4E3",
             "startlinecolor": "#2a3f5f"
            },
            "baxis": {
             "endlinecolor": "#2a3f5f",
             "gridcolor": "#C8D4E3",
             "linecolor": "#C8D4E3",
             "minorgridcolor": "#C8D4E3",
             "startlinecolor": "#2a3f5f"
            },
            "type": "carpet"
           }
          ],
          "choropleth": [
           {
            "colorbar": {
             "outlinewidth": 0,
             "ticks": ""
            },
            "type": "choropleth"
           }
          ],
          "contour": [
           {
            "colorbar": {
             "outlinewidth": 0,
             "ticks": ""
            },
            "colorscale": [
             [
              0,
              "#0d0887"
             ],
             [
              0.1111111111111111,
              "#46039f"
             ],
             [
              0.2222222222222222,
              "#7201a8"
             ],
             [
              0.3333333333333333,
              "#9c179e"
             ],
             [
              0.4444444444444444,
              "#bd3786"
             ],
             [
              0.5555555555555556,
              "#d8576b"
             ],
             [
              0.6666666666666666,
              "#ed7953"
             ],
             [
              0.7777777777777778,
              "#fb9f3a"
             ],
             [
              0.8888888888888888,
              "#fdca26"
             ],
             [
              1,
              "#f0f921"
             ]
            ],
            "type": "contour"
           }
          ],
          "contourcarpet": [
           {
            "colorbar": {
             "outlinewidth": 0,
             "ticks": ""
            },
            "type": "contourcarpet"
           }
          ],
          "heatmap": [
           {
            "colorbar": {
             "outlinewidth": 0,
             "ticks": ""
            },
            "colorscale": [
             [
              0,
              "#0d0887"
             ],
             [
              0.1111111111111111,
              "#46039f"
             ],
             [
              0.2222222222222222,
              "#7201a8"
             ],
             [
              0.3333333333333333,
              "#9c179e"
             ],
             [
              0.4444444444444444,
              "#bd3786"
             ],
             [
              0.5555555555555556,
              "#d8576b"
             ],
             [
              0.6666666666666666,
              "#ed7953"
             ],
             [
              0.7777777777777778,
              "#fb9f3a"
             ],
             [
              0.8888888888888888,
              "#fdca26"
             ],
             [
              1,
              "#f0f921"
             ]
            ],
            "type": "heatmap"
           }
          ],
          "histogram": [
           {
            "marker": {
             "pattern": {
              "fillmode": "overlay",
              "size": 10,
              "solidity": 0.2
             }
            },
            "type": "histogram"
           }
          ],
          "histogram2d": [
           {
            "colorbar": {
             "outlinewidth": 0,
             "ticks": ""
            },
            "colorscale": [
             [
              0,
              "#0d0887"
             ],
             [
              0.1111111111111111,
              "#46039f"
             ],
             [
              0.2222222222222222,
              "#7201a8"
             ],
             [
              0.3333333333333333,
              "#9c179e"
             ],
             [
              0.4444444444444444,
              "#bd3786"
             ],
             [
              0.5555555555555556,
              "#d8576b"
             ],
             [
              0.6666666666666666,
              "#ed7953"
             ],
             [
              0.7777777777777778,
              "#fb9f3a"
             ],
             [
              0.8888888888888888,
              "#fdca26"
             ],
             [
              1,
              "#f0f921"
             ]
            ],
            "type": "histogram2d"
           }
          ],
          "histogram2dcontour": [
           {
            "colorbar": {
             "outlinewidth": 0,
             "ticks": ""
            },
            "colorscale": [
             [
              0,
              "#0d0887"
             ],
             [
              0.1111111111111111,
              "#46039f"
             ],
             [
              0.2222222222222222,
              "#7201a8"
             ],
             [
              0.3333333333333333,
              "#9c179e"
             ],
             [
              0.4444444444444444,
              "#bd3786"
             ],
             [
              0.5555555555555556,
              "#d8576b"
             ],
             [
              0.6666666666666666,
              "#ed7953"
             ],
             [
              0.7777777777777778,
              "#fb9f3a"
             ],
             [
              0.8888888888888888,
              "#fdca26"
             ],
             [
              1,
              "#f0f921"
             ]
            ],
            "type": "histogram2dcontour"
           }
          ],
          "mesh3d": [
           {
            "colorbar": {
             "outlinewidth": 0,
             "ticks": ""
            },
            "type": "mesh3d"
           }
          ],
          "parcoords": [
           {
            "line": {
             "colorbar": {
              "outlinewidth": 0,
              "ticks": ""
             }
            },
            "type": "parcoords"
           }
          ],
          "pie": [
           {
            "automargin": true,
            "type": "pie"
           }
          ],
          "scatter": [
           {
            "fillpattern": {
             "fillmode": "overlay",
             "size": 10,
             "solidity": 0.2
            },
            "type": "scatter"
           }
          ],
          "scatter3d": [
           {
            "line": {
             "colorbar": {
              "outlinewidth": 0,
              "ticks": ""
             }
            },
            "marker": {
             "colorbar": {
              "outlinewidth": 0,
              "ticks": ""
             }
            },
            "type": "scatter3d"
           }
          ],
          "scattercarpet": [
           {
            "marker": {
             "colorbar": {
              "outlinewidth": 0,
              "ticks": ""
             }
            },
            "type": "scattercarpet"
           }
          ],
          "scattergeo": [
           {
            "marker": {
             "colorbar": {
              "outlinewidth": 0,
              "ticks": ""
             }
            },
            "type": "scattergeo"
           }
          ],
          "scattergl": [
           {
            "marker": {
             "colorbar": {
              "outlinewidth": 0,
              "ticks": ""
             }
            },
            "type": "scattergl"
           }
          ],
          "scattermap": [
           {
            "marker": {
             "colorbar": {
              "outlinewidth": 0,
              "ticks": ""
             }
            },
            "type": "scattermap"
           }
          ],
          "scattermapbox": [
           {
            "marker": {
             "colorbar": {
              "outlinewidth": 0,
              "ticks": ""
             }
            },
            "type": "scattermapbox"
           }
          ],
          "scatterpolar": [
           {
            "marker": {
             "colorbar": {
              "outlinewidth": 0,
              "ticks": ""
             }
            },
            "type": "scatterpolar"
           }
          ],
          "scatterpolargl": [
           {
            "marker": {
             "colorbar": {
              "outlinewidth": 0,
              "ticks": ""
             }
            },
            "type": "scatterpolargl"
           }
          ],
          "scatterternary": [
           {
            "marker": {
             "colorbar": {
              "outlinewidth": 0,
              "ticks": ""
             }
            },
            "type": "scatterternary"
           }
          ],
          "surface": [
           {
            "colorbar": {
             "outlinewidth": 0,
             "ticks": ""
            },
            "colorscale": [
             [
              0,
              "#0d0887"
             ],
             [
              0.1111111111111111,
              "#46039f"
             ],
             [
              0.2222222222222222,
              "#7201a8"
             ],
             [
              0.3333333333333333,
              "#9c179e"
             ],
             [
              0.4444444444444444,
              "#bd3786"
             ],
             [
              0.5555555555555556,
              "#d8576b"
             ],
             [
              0.6666666666666666,
              "#ed7953"
             ],
             [
              0.7777777777777778,
              "#fb9f3a"
             ],
             [
              0.8888888888888888,
              "#fdca26"
             ],
             [
              1,
              "#f0f921"
             ]
            ],
            "type": "surface"
           }
          ],
          "table": [
           {
            "cells": {
             "fill": {
              "color": "#EBF0F8"
             },
             "line": {
              "color": "white"
             }
            },
            "header": {
             "fill": {
              "color": "#C8D4E3"
             },
             "line": {
              "color": "white"
             }
            },
            "type": "table"
           }
          ]
         },
         "layout": {
          "annotationdefaults": {
           "arrowcolor": "#2a3f5f",
           "arrowhead": 0,
           "arrowwidth": 1
          },
          "autotypenumbers": "strict",
          "coloraxis": {
           "colorbar": {
            "outlinewidth": 0,
            "ticks": ""
           }
          },
          "colorscale": {
           "diverging": [
            [
             0,
             "#8e0152"
            ],
            [
             0.1,
             "#c51b7d"
            ],
            [
             0.2,
             "#de77ae"
            ],
            [
             0.3,
             "#f1b6da"
            ],
            [
             0.4,
             "#fde0ef"
            ],
            [
             0.5,
             "#f7f7f7"
            ],
            [
             0.6,
             "#e6f5d0"
            ],
            [
             0.7,
             "#b8e186"
            ],
            [
             0.8,
             "#7fbc41"
            ],
            [
             0.9,
             "#4d9221"
            ],
            [
             1,
             "#276419"
            ]
           ],
           "sequential": [
            [
             0,
             "#0d0887"
            ],
            [
             0.1111111111111111,
             "#46039f"
            ],
            [
             0.2222222222222222,
             "#7201a8"
            ],
            [
             0.3333333333333333,
             "#9c179e"
            ],
            [
             0.4444444444444444,
             "#bd3786"
            ],
            [
             0.5555555555555556,
             "#d8576b"
            ],
            [
             0.6666666666666666,
             "#ed7953"
            ],
            [
             0.7777777777777778,
             "#fb9f3a"
            ],
            [
             0.8888888888888888,
             "#fdca26"
            ],
            [
             1,
             "#f0f921"
            ]
           ],
           "sequentialminus": [
            [
             0,
             "#0d0887"
            ],
            [
             0.1111111111111111,
             "#46039f"
            ],
            [
             0.2222222222222222,
             "#7201a8"
            ],
            [
             0.3333333333333333,
             "#9c179e"
            ],
            [
             0.4444444444444444,
             "#bd3786"
            ],
            [
             0.5555555555555556,
             "#d8576b"
            ],
            [
             0.6666666666666666,
             "#ed7953"
            ],
            [
             0.7777777777777778,
             "#fb9f3a"
            ],
            [
             0.8888888888888888,
             "#fdca26"
            ],
            [
             1,
             "#f0f921"
            ]
           ]
          },
          "colorway": [
           "#636efa",
           "#EF553B",
           "#00cc96",
           "#ab63fa",
           "#FFA15A",
           "#19d3f3",
           "#FF6692",
           "#B6E880",
           "#FF97FF",
           "#FECB52"
          ],
          "font": {
           "color": "#2a3f5f"
          },
          "geo": {
           "bgcolor": "white",
           "lakecolor": "white",
           "landcolor": "white",
           "showlakes": true,
           "showland": true,
           "subunitcolor": "#C8D4E3"
          },
          "hoverlabel": {
           "align": "left"
          },
          "hovermode": "closest",
          "mapbox": {
           "style": "light"
          },
          "paper_bgcolor": "white",
          "plot_bgcolor": "white",
          "polar": {
           "angularaxis": {
            "gridcolor": "#EBF0F8",
            "linecolor": "#EBF0F8",
            "ticks": ""
           },
           "bgcolor": "white",
           "radialaxis": {
            "gridcolor": "#EBF0F8",
            "linecolor": "#EBF0F8",
            "ticks": ""
           }
          },
          "scene": {
           "xaxis": {
            "backgroundcolor": "white",
            "gridcolor": "#DFE8F3",
            "gridwidth": 2,
            "linecolor": "#EBF0F8",
            "showbackground": true,
            "ticks": "",
            "zerolinecolor": "#EBF0F8"
           },
           "yaxis": {
            "backgroundcolor": "white",
            "gridcolor": "#DFE8F3",
            "gridwidth": 2,
            "linecolor": "#EBF0F8",
            "showbackground": true,
            "ticks": "",
            "zerolinecolor": "#EBF0F8"
           },
           "zaxis": {
            "backgroundcolor": "white",
            "gridcolor": "#DFE8F3",
            "gridwidth": 2,
            "linecolor": "#EBF0F8",
            "showbackground": true,
            "ticks": "",
            "zerolinecolor": "#EBF0F8"
           }
          },
          "shapedefaults": {
           "line": {
            "color": "#2a3f5f"
           }
          },
          "ternary": {
           "aaxis": {
            "gridcolor": "#DFE8F3",
            "linecolor": "#A2B1C6",
            "ticks": ""
           },
           "baxis": {
            "gridcolor": "#DFE8F3",
            "linecolor": "#A2B1C6",
            "ticks": ""
           },
           "bgcolor": "white",
           "caxis": {
            "gridcolor": "#DFE8F3",
            "linecolor": "#A2B1C6",
            "ticks": ""
           }
          },
          "title": {
           "x": 0.05
          },
          "xaxis": {
           "automargin": true,
           "gridcolor": "#EBF0F8",
           "linecolor": "#EBF0F8",
           "ticks": "",
           "title": {
            "standoff": 15
           },
           "zerolinecolor": "#EBF0F8",
           "zerolinewidth": 2
          },
          "yaxis": {
           "automargin": true,
           "gridcolor": "#EBF0F8",
           "linecolor": "#EBF0F8",
           "ticks": "",
           "title": {
            "standoff": 15
           },
           "zerolinecolor": "#EBF0F8",
           "zerolinewidth": 2
          }
         }
        },
        "title": {
         "text": "Elbow Method for Optimal K"
        },
        "width": 700,
        "xaxis": {
         "title": {
          "text": "Number of Clusters (k)"
         }
        },
        "yaxis": {
         "title": {
          "text": "Inertia"
         }
        }
       }
      }
     },
     "metadata": {},
     "output_type": "display_data"
    },
    {
     "data": {
      "application/vnd.plotly.v1+json": {
       "config": {
        "plotlyServerURL": "https://plot.ly"
       },
       "data": [
        {
         "hovertemplate": "Cluster=0<br>HoursStudied/Week=%{x}<br>Attendance(%)=%{y}<extra></extra>",
         "legendgroup": "0",
         "marker": {
          "color": "rgb(102,194,165)",
          "opacity": 0.8,
          "symbol": "circle"
         },
         "mode": "markers",
         "name": "0",
         "showlegend": true,
         "type": "scattergl",
         "x": {
          "bdata": "AAAAAAAAFkAzMzMzMzMbQM3MzMzMzCFAmpmZmZmZH0AzMzMzMzMiQGZmZmZmZhxAAAAAAAAAIkBmZmZmZmYjQGZmZmZmZhRAmpmZmZmZFUDNzMzMzMwiQAAAAAAAAAAAAAAAAAAADECamZmZmZkdQDMzMzMzMxlAzczMzMzMGEDNzMzMzMwUQJqZmZmZmR9AMzMzMzMzG0CamZmZmZkFQGZmZmZmZiBAZmZmZmZmIEBmZmZmZmYcQM3MzMzMzBJAAAAAAAAAEkBmZmZmZmYiQDMzMzMzMyFAzczMzMzMEEAAAAAAAAAEQJqZmZmZmSNAMzMzMzMzH0AAAAAAAADgPzMzMzMzM/s/MzMzMzMzIkAAAAAAAAAjQAAAAAAAACNAzczMzMzMIUCamZmZmZkfQM3MzMzMzBhAzczMzMzMEEBmZmZmZmYOQAAAAAAAACJAMzMzMzMzHUAAAAAAAAAWQAAAAAAAACNAZmZmZmZmIUAzMzMzMzMgQDMzMzMzMx9AmpmZmZmZH0DNzMzMzMwAQGZmZmZmZhJAZmZmZmZmIEDNzMzMzMwhQDMzMzMzMx1AmpmZmZmZI0AAAAAAAAAhQJqZmZmZmRNAZmZmZmZmFkBmZmZmZmYiQJqZmZmZmSNAMzMzMzMzHUDNzMzMzMwhQAAAAAAAABhAZmZmZmZmI0BmZmZmZmYeQM3MzMzMzCBAAAAAAAAAIEAzMzMzMzMZQGZmZmZmZhZAzczMzMzMIUDNzMzMzMwcQAAAAAAAAB5AzczMzMzMCEAAAAAAAAAcQJqZmZmZmRVAmpmZmZmZIECamZmZmZkZQAAAAAAAABRAmpmZmZmZH0CamZmZmZkiQGZmZmZmZiBAAAAAAAAAGkDNzMzMzMwiQAAAAAAAABBAmpmZmZmZH0AAAAAAAAD4P2ZmZmZmZgpAmpmZmZmZE0CamZmZmZkhQDMzMzMzMwdAmpmZmZmZH0BmZmZmZmYOQDMzMzMzMxtAMzMzMzMzIEDNzMzMzMwcQJqZmZmZmRVAAAAAAAAAHEAzMzMzMzMHQJqZmZmZmSBAmpmZmZmZGUCamZmZmZkjQGZmZmZmZhRAAAAAAAAAAECamZmZmZkfQGZmZmZmZhBAzczMzMzMIkDNzMzMzMwIQM3MzMzMzCFAZmZmZmZmIUAAAAAAAAAiQGZmZmZmZiBAAAAAAAAAHECamZmZmZkfQGZmZmZmZhhAMzMzMzMzH0CamZmZmZkgQDMzMzMzMxVAMzMzMzMzHUDNzMzMzMwYQGZmZmZmZiNAMzMzMzMzH0AAAAAAAAAhQJqZmZmZmSFAmpmZmZmZFUAzMzMzMzMPQM3MzMzMzAhAAAAAAAAAHkAAAAAAAAAeQDMzMzMzMyJAZmZmZmZmHEDNzMzMzMwUQGZmZmZmZiFAZmZmZmZmBkAAAAAAAAAeQGZmZmZmZiFAZmZmZmZmI0CamZmZmZkhQGZmZmZmZhhAmpmZmZmZIUAAAAAAAAAAAJqZmZmZmSNAzczMzMzMHkCamZmZmZkbQGZmZmZmZhhAMzMzMzMzG0AAAAAAAAAjQAAAAAAAABJAAAAAAAAAIkAAAAAAAAAjQM3MzMzMzBpAAAAAAAAAFEAzMzMzMzMgQAAAAAAAABpAmpmZmZmZH0BmZmZmZmYQQAAAAAAAABxAAAAAAAAAHkAzMzMzMzMTQDMzMzMzMyNAmpmZmZmZyT8zMzMzMzMLQDMzMzMzMyJAMzMzMzMzIUDNzMzMzMwcQAAAAAAAACBAmpmZmZmZI0BmZmZmZmYhQJqZmZmZmR1AAAAAAAAACEAzMzMzMzMRQM3MzMzMzBBAZmZmZmZmFEAAAAAAAAAAAAAAAAAAAOA/mpmZmZmZIkAAAAAAAAAWQJqZmZmZmSJAmpmZmZmZIkCamZmZmZnpPwAAAAAAABxAAAAAAAAAIkCamZmZmZkXQM3MzMzMzBJAMzMzMzMzA0CamZmZmZkdQAAAAAAAABJAAAAAAAAAGEAzMzMzMzMXQM3MzMzMzBpAmpmZmZmZH0CamZmZmZkXQGZmZmZmZh5AzczMzMzMEkCamZmZmZkgQAAAAAAAACFAAAAAAAAAEEBmZmZmZmYKQAAAAAAAABJAZmZmZmZmIECamZmZmZkhQDMzMzMzMxtAMzMzMzMzIEDNzMzMzMwiQAAAAAAAAAAAAAAAAAAAEEAAAAAAAAAQQDMzMzMzMxlAZmZmZmZmGEAzMzMzMzMdQGZmZmZmZhhAZmZmZmZmIUBmZmZmZmYOQGZmZmZmZiNAZmZmZmZmHEBmZmZmZmYgQM3MzMzMzPw/AAAAAAAAI0CamZmZmZkdQDMzMzMzMyJAMzMzMzMzIEAAAAAAAAAjQDMzMzMzMyFAzczMzMzMEkCamZmZmZkjQAAAAAAAAB5AMzMzMzMzEUDNzMzMzMwiQJqZmZmZmSJAzczMzMzMHkDNzMzMzMwcQM3MzMzMzCFAzczMzMzMIUCamZmZmZkjQGZmZmZmZgJAmpmZmZmZF0BmZmZmZmYgQM3MzMzMzBxAAAAAAAAAIUAAAAAAAAAAAM3MzMzMzBpAzczMzMzMDECamZmZmZkhQJqZmZmZmRtAZmZmZmZmGEAzMzMzMzMVQGZmZmZmZg5AMzMzMzMzFUAAAAAAAAAYQDMzMzMzMx1AZmZmZmZmEkBmZmZmZmYiQJqZmZmZmRNAMzMzMzMzI0CamZmZmZkhQM3MzMzMzCBAMzMzMzMzH0BmZmZmZmYjQJqZmZmZmRlAAAAAAAAAAEAzMzMzMzMfQM3MzMzMzBxAmpmZmZmZEUAzMzMzMzMfQGZmZmZmZiNAmpmZmZmZHUAzMzMzMzMXQAAAAAAAACNAAAAAAAAAGkBmZmZmZmYgQM3MzMzMzCBAMzMzMzMzG0CamZmZmZkdQM3MzMzMzCJAzczMzMzMEEBmZmZmZmYjQDMzMzMzMyBAzczMzMzMGkAzMzMzMzMdQGZmZmZmZhxAAAAAAAAAIUAAAAAAAAAcQM3MzMzMzCFAzczMzMzMHkAzMzMzMzMbQGZmZmZmZhpAZmZmZmZmGECamZmZmZkfQDMzMzMzM+M/zczMzMzMEkAAAAAAAAAgQDMzMzMzMxNAAAAAAAAAIkAzMzMzMzMhQJqZmZmZmR1AZmZmZmZmIUBmZmZmZmYaQJqZmZmZmRtAAAAAAAAAAABmZmZmZmYeQJqZmZmZmSFAZmZmZmZmGkAzMzMzMzMZQAAAAAAAAPg/MzMzMzMzF0BmZmZmZmYWQDMzMzMzMxVAzczMzMzMHkCamZmZmZkfQAAAAAAAABhAZmZmZmZmI0DNzMzMzMwAQGZmZmZmZiFAzczMzMzMIEAzMzMzMzMhQJqZmZmZmSJAMzMzMzMzFUCamZmZmZkFQJqZmZmZmSBAZmZmZmZmHEAAAAAAAAAAAM3MzMzMzBpAMzMzMzMzIkAAAAAAAAAYQDMzMzMzMxVAAAAAAAAAIEAAAAAAAAAcQAAAAAAAAAhAMzMzMzMzIUBmZmZmZmYhQJqZmZmZmRNAMzMzMzMzF0AAAAAAAAAjQM3MzMzMzCBAZmZmZmZmIkAzMzMzMzMiQDMzMzMzMyBAAAAAAAAAHEAzMzMzMzMfQDMzMzMzMyNAzczMzMzMBECamZmZmZkZQJqZmZmZmRdAMzMzMzMzIkCamZmZmZn5P83MzMzMzB5AzczMzMzM9D/NzMzMzMwhQGZmZmZmZiJAMzMzMzMzF0AAAAAAAAAYQAAAAAAAAAxAMzMzMzMzFUBmZmZmZmYjQJqZmZmZmRVAAAAAAAAAHEAzMzMzMzPjP2ZmZmZmZiFAzczMzMzMHkCamZmZmZkfQGZmZmZmZh5AzczMzMzMHkAzMzMzMzMDQAAAAAAAABpAzczMzMzMGkAAAAAAAAAiQM3MzMzMzBhAAAAAAAAAHkAAAAAAAAASQJqZmZmZmRlAmpmZmZmZHUBmZmZmZmYiQM3MzMzMzCJAMzMzMzMzI0BmZmZmZmYhQJqZmZmZmSBAAAAAAAAAHkDNzMzMzMwcQM3MzMzMzB5AZmZmZmZmGkAzMzMzMzMiQM3MzMzMzCFAAAAAAAAAGECamZmZmZkdQDMzMzMzMyBAMzMzMzMzD0BmZmZmZmYYQGZmZmZmZiJAmpmZmZmZuT9mZmZmZmYgQM3MzMzMzCBAZmZmZmZmGkDNzMzMzMwaQM3MzMzMzARAAAAAAAAAHEAAAAAAAAASQJqZmZmZmSBAZmZmZmZmEkBmZmZmZmYgQJqZmZmZmSBAAAAAAAAAFkBmZmZmZmYjQAAAAAAAABxAmpmZmZmZH0BmZmZmZmYgQGZmZmZmZuY/MzMzMzMzI0CamZmZmZkfQJqZmZmZmSBAzczMzMzMFEBmZmZmZmYhQM3MzMzMzBpAzczMzMzMIUBmZmZmZmYcQM3MzMzMzCFAmpmZmZmZIkAAAAAAAAAiQGZmZmZmZiBAZmZmZmZm5j+amZmZmZkiQM3MzMzMzBpAmpmZmZmZ8T/NzMzMzMweQDMzMzMzMx1AAAAAAAAAIUAzMzMzMzMPQJqZmZmZmRdAmpmZmZmZEUDNzMzMzMwWQDMzMzMzMxVAAAAAAAAAI0AzMzMzMzMdQGZmZmZmZiFAmpmZmZmZI0DNzMzMzMwgQM3MzMzMzB5AMzMzMzMzIEAzMzMzMzMfQGZmZmZmZiFAAAAAAAAAIUDNzMzMzMwaQM3MzMzMzBpAZmZmZmZmI0CamZmZmZkZQJqZmZmZmRdAmpmZmZmZDUCamZmZmZkfQJqZmZmZmR9AMzMzMzMz0z8AAAAAAAASQGZmZmZmZhxAAAAAAAAAI0AzMzMzMzMjQDMzMzMzMxlAZmZmZmZmI0CamZmZmZkbQGZmZmZmZiNAMzMzMzMzE0AAAAAAAAAeQAAAAAAAABZAZmZmZmZmDkCamZmZmZkJQM3MzMzMzCBAMzMzMzMzHUAzMzMzMzMfQM3MzMzMzABAmpmZmZmZH0AzMzMzMzMjQM3MzMzMzBxAmpmZmZmZIkCamZmZmZkhQM3MzMzMzBhAzczMzMzMIkAzMzMzMzMgQDMzMzMzMx9AzczMzMzM7D+amZmZmZkiQGZmZmZmZhRAAAAAAAAAFEBmZmZmZmYjQAAAAAAAACFAMzMzMzMzE0CamZmZmZkjQM3MzMzMzBxAAAAAAAAAHkAAAAAAAAAhQGZmZmZmZhRAMzMzMzMzI0AzMzMzMzP7P2ZmZmZmZv4/zczMzMzMIkAzMzMzMzMfQDMzMzMzMyJAMzMzMzMzI0DNzMzMzMwcQM3MzMzMzBBAmpmZmZmZHUBmZmZmZmYjQJqZmZmZmSBAZmZmZmZmIkAAAAAAAAAeQJqZmZmZmSJAAAAAAAAAFEDNzMzMzMwgQM3MzMzMzCJAAAAAAAAAGkAzMzMzMzMjQAAAAAAAAAAAAAAAAAAAEkBmZmZmZmYQQM3MzMzMzBhAAAAAAAAAIkCamZmZmZkhQJqZmZmZmR9AAAAAAAAAIkDNzMzMzMwcQM3MzMzMzCFAmpmZmZmZIkBmZmZmZmYOQM3MzMzMzBhAmpmZmZmZHUDNzMzMzMwgQGZmZmZmZiFAAAAAAAAAFkCamZmZmZkiQDMzMzMzMyBAMzMzMzMzHUAzMzMzMzMhQJqZmZmZmSBAzczMzMzMIUCamZmZmZkhQM3MzMzMzB5AMzMzMzMzH0DNzMzMzMweQDMzMzMzMxlAAAAAAAAAGkCamZmZmZkjQM3MzMzMzCFAAAAAAAAAGECamZmZmZkJQDMzMzMzMyJAZmZmZmZmHECamZmZmZkgQJqZmZmZmRtAMzMzMzMzIUCamZmZmZkbQDMzMzMzMyNAMzMzMzMzIkDNzMzMzMwcQDMzMzMzMxVAzczMzMzMIUCamZmZmZkVQAAAAAAAACJAMzMzMzMzG0AzMzMzMzMhQAAAAAAAABZAAAAAAAAAI0AAAAAAAAAeQAAAAAAAABRAzczMzMzMIEAzMzMzMzMfQGZmZmZmZiNAzczMzMzMFkDNzMzMzMwgQJqZmZmZmSJAMzMzMzMzIUCamZmZmZkdQJqZmZmZmR9AmpmZmZmZH0AzMzMzMzMjQM3MzMzMzCJAmpmZmZmZHUAAAAAAAAAiQJqZmZmZmSJAMzMzMzMzIkAzMzMzMzMdQAAAAAAAACFAAAAAAAAAIEAAAAAAAAAAAGZmZmZmZhxAmpmZmZmZIUAzMzMzMzP7P83MzMzMzB5AzczMzMzMHECamZmZmZkfQAAAAAAAACJAMzMzMzMzFUAAAAAAAAAiQAAAAAAAABJAmpmZmZmZI0BmZmZmZmYYQJqZmZmZmSJAZmZmZmZmGkBmZmZmZmYcQGZmZmZmZiBAmpmZmZmZF0AAAAAAAAAiQJqZmZmZmQlAMzMzMzMzGUCamZmZmZkfQGZmZmZmZh5AzczMzMzMDEBmZmZmZmYaQJqZmZmZmQFAmpmZmZmZE0AzMzMzMzP7PwAAAAAAACNAmpmZmZmZIEDNzMzMzMwMQDMzMzMzMwtAmpmZmZmZE0CamZmZmZkbQAAAAAAAAB5AzczMzMzMBEDNzMzMzMwiQM3MzMzMzAxAZmZmZmZmGkAzMzMzMzMjQJqZmZmZmSJAAAAAAAAAGEDNzMzMzMwSQGZmZmZmZiJAAAAAAAAAIEAAAAAAAAAYQAAAAAAAABBAMzMzMzMzGUAzMzMzMzMXQGZmZmZmZiNAMzMzMzMzGUCamZmZmZkjQGZmZmZmZh5AAAAAAAAAHECamZmZmZkgQJqZmZmZmRtAmpmZmZmZEUBmZmZmZmYOQAAAAAAAABpAzczMzMzMFkBmZmZmZmYSQM3MzMzMzBRAAAAAAAAAFkAzMzMzMzMXQM3MzMzMzCJAAAAAAAAAAAAzMzMzMzMjQM3MzMzMzBRAzczMzMzMEECamZmZmZkXQAAAAAAAABBAMzMzMzMzIEAzMzMzMzMiQM3MzMzMzCJAAAAAAAAAFECamZmZmZkXQDMzMzMzMyBAZmZmZmZmGEAzMzMzMzMjQDMzMzMzMwdAmpmZmZmZH0DNzMzMzMwcQGZmZmZmZgpAmpmZmZmZH0BmZmZmZmYiQDMzMzMzMxtAmpmZmZmZFUCamZmZmZkjQAAAAAAAAAhAmpmZmZmZE0AAAAAAAAAiQAAAAAAAABpAZmZmZmZmI0DNzMzMzMweQM3MzMzMzBhAzczMzMzMIUAAAAAAAAAeQGZmZmZmZiFAAAAAAAAAHEAAAAAAAAAEQM3MzMzMzBhAzczMzMzMGEAAAAAAAAAUQGZmZmZmZhpAMzMzMzMzB0AAAAAAAAAeQAAAAAAAACBAZmZmZmZmEkBmZmZmZmYgQDMzMzMzMxtAmpmZmZmZIkDNzMzMzMwEQGZmZmZmZhBAzczMzMzMHEAzMzMzMzMdQM3MzMzMzBBAmpmZmZmZIkAAAAAAAAAWQAAAAAAAACFAzczMzMzMEEAAAAAAAAAiQGZmZmZmZhxAMzMzMzMzIEAAAAAAAAAjQM3MzMzMzB5AMzMzMzMzG0AAAAAAAAAWQGZmZmZmZg5AAAAAAAAAAADNzMzMzMwgQJqZmZmZmQ1AzczMzMzMIUDNzMzMzMweQM3MzMzMzCJAMzMzMzMzH0DNzMzMzMwaQGZmZmZmZiJAMzMzMzMzI0AzMzMzMzMZQDMzMzMzMwdAzczMzMzMIkAzMzMzMzPTP2ZmZmZmZiNAZmZmZmZmHkCamZmZmZkfQDMzMzMzMyJAAAAAAAAAGEAzMzMzMzMjQM3MzMzMzB5AZmZmZmZmFkCamZmZmZm5P83MzMzMzBxAZmZmZmZmAkCamZmZmZkjQGZmZmZmZiBAzczMzMzMIEAzMzMzMzMgQM3MzMzMzAxAzczMzMzMIkAAAAAAAAASQM3MzMzMzB5AmpmZmZmZ6T/NzMzMzMwcQJqZmZmZmSFAmpmZmZmZIkBmZmZmZmYiQJqZmZmZmRdAmpmZmZmZIUAzMzMzMzMhQM3MzMzMzBxAmpmZmZmZIUCamZmZmZkhQAAAAAAAABxAAAAAAAAAGkBmZmZmZmYjQGZmZmZmZv4/ZmZmZmZmDkCamZmZmZkJQAAAAAAAACNAMzMzMzMzH0CamZmZmZkhQGZmZmZmZiFAmpmZmZmZIUDNzMzMzMwhQM3MzMzMzBpAMzMzMzMzIEAAAAAAAAAjQM3MzMzMzBRAmpmZmZmZE0AzMzMzMzMHQJqZmZmZmSBAAAAAAAAAI0CamZmZmZkgQAAAAAAAACJAZmZmZmZmHkAAAAAAAAAUQAAAAAAAAB5AAAAAAAAAHkAzMzMzMzMZQGZmZmZmZiBAAAAAAAAAHkAzMzMzMzMhQAAAAAAAACNAAAAAAAAAEECamZmZmZkgQJqZmZmZmRVAzczMzMzMIEDNzMzMzMwWQGZmZmZmZiJAmpmZmZmZIECamZmZmZkhQM3MzMzMzCBAzczMzMzMIUBmZmZmZmYhQM3MzMzMzCJAZmZmZmZmI0AzMzMzMzMjQM3MzMzMzBxAzczMzMzMGkBmZmZmZmYaQJqZmZmZmRlAZmZmZmZmGkAAAAAAAAAiQAAAAAAAABpAAAAAAAAAIkAAAAAAAAAYQDMzMzMzMyJAAAAAAAAAHkAzMzMzMzMTQDMzMzMzMxlAZmZmZmZmFkBmZmZmZmYeQAAAAAAAACBAmpmZmZmZIEBmZmZmZmYaQDMzMzMzMx1AmpmZmZmZIkCamZmZmZkgQDMzMzMzMx9AzczMzMzMFEBmZmZmZmYcQAAAAAAAABZAMzMzMzMzIkAAAAAAAAAYQAAAAAAAABpAAAAAAAAAGkDNzMzMzMweQM3MzMzMzCBAAAAAAAAAFEAzMzMzMzMHQAAAAAAAACNAAAAAAAAAGkBmZmZmZmYhQM3MzMzMzB5AMzMzMzMzEUCamZmZmZkiQJqZmZmZmR1AzczMzMzMHEAAAAAAAAAiQAAAAAAAABBAmpmZmZmZIUCamZmZmZkZQAAAAAAAACNAMzMzMzMzI0AAAAAAAAAeQDMzMzMzM/s/MzMzMzMzC0BmZmZmZmYYQJqZmZmZmSBAMzMzMzMzIECamZmZmZkhQJqZmZmZmSFAZmZmZmZmCkAAAAAAAAAUQJqZmZmZmR9AAAAAAAAAEEAAAAAAAAAiQDMzMzMzMyJAZmZmZmZmGECamZmZmZkTQM3MzMzMzCFAmpmZmZmZF0AzMzMzMzMhQGZmZmZmZiJAmpmZmZmZI0BmZmZmZmYCQGZmZmZmZhZAMzMzMzMzI0CamZmZmZkVQM3MzMzMzBRAmpmZmZmZIUCamZmZmZkdQGZmZmZmZiNAmpmZmZmZH0DNzMzMzMwMQGZmZmZmZiBAZmZmZmZmI0AAAAAAAAAeQM3MzMzMzBJAmpmZmZmZHUAAAAAAAAAWQAAAAAAAACJAAAAAAAAAIUDNzMzMzMwWQJqZmZmZmR9AZmZmZmZmFEAzMzMzMzMhQM3MzMzMzBZAzczMzMzMHkCamZmZmZkjQM3MzMzMzB5AMzMzMzMzH0BmZmZmZmYiQJqZmZmZmR9AmpmZmZmZH0AzMzMzMzMRQDMzMzMzMx1AmpmZmZmZH0DNzMzMzMwiQM3MzMzMzBhAzczMzMzMEEAAAAAAAAAgQM3MzMzMzBBAAAAAAAAAEkCamZmZmZkjQDMzMzMzMx1AmpmZmZmZH0CamZmZmZkjQM3MzMzMzCFAMzMzMzMzIEBmZmZmZmYSQM3MzMzMzCBAAAAAAAAAI0DNzMzMzMwQQDMzMzMzMx9AMzMzMzMzG0BmZmZmZmYcQAAAAAAAABZAmpmZmZmZGUAAAAAAAAAcQGZmZmZmZhpAMzMzMzMzIkAzMzMzMzMgQDMzMzMzMyBAMzMzMzMzG0BmZmZmZmYiQAAAAAAAAARAMzMzMzMzHUAAAAAAAAAeQDMzMzMzM/M/ZmZmZmZmGEAAAAAAAAAMQJqZmZmZmQ1AzczMzMzMIUBmZmZmZmYeQJqZmZmZmRlAmpmZmZmZH0BmZmZmZmYGQJqZmZmZmSJAZmZmZmZmHkDNzMzMzMwcQGZmZmZmZhxAmpmZmZmZIEAzMzMzMzMdQDMzMzMzMx1AMzMzMzMzFUDNzMzMzMwYQM3MzMzMzBBAZmZmZmZm5j+amZmZmZkfQGZmZmZmZiJAAAAAAAAA8D8zMzMzMzMjQDMzMzMzMxVAAAAAAAAAHEAAAAAAAAAYQJqZmZmZmR1AAAAAAAAAGEDNzMzMzMweQM3MzMzMzCJAMzMzMzMzIEDNzMzMzMwQQJqZmZmZmSFAAAAAAAAAFkAAAAAAAAAjQM3MzMzMzCBAAAAAAAAAIECamZmZmZkfQM3MzMzMzCBAAAAAAAAAI0DNzMzMzMwhQM3MzMzMzCBAZmZmZmZmFkBmZmZmZmYWQAAAAAAAABhAZmZmZmZmHEAAAAAAAAAcQJqZmZmZmRNAzczMzMzMIUAAAAAAAAAiQM3MzMzMzBBAzczMzMzMFEAzMzMzMzMjQAAAAAAAABZAMzMzMzMzIkDNzMzMzMwhQAAAAAAAAAAAZmZmZmZmGkAAAAAAAAAiQGZmZmZmZh5AAAAAAAAAFEDNzMzMzMwgQJqZmZmZmRdAMzMzMzMzIEBmZmZmZmYcQDMzMzMzMxlAmpmZmZmZHUCamZmZmZkNQAAAAAAAAAAAAAAAAAAAEEA=",
          "dtype": "f8"
         },
         "xaxis": "x",
         "y": {
          "bdata": "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",
          "dtype": "f8"
         },
         "yaxis": "y"
        },
        {
         "hovertemplate": "Cluster=3<br>HoursStudied/Week=%{x}<br>Attendance(%)=%{y}<extra></extra>",
         "legendgroup": "3",
         "marker": {
          "color": "rgb(252,141,98)",
          "opacity": 0.8,
          "symbol": "diamond"
         },
         "mode": "markers",
         "name": "3",
         "showlegend": true,
         "type": "scattergl",
         "x": {
          "bdata": "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",
          "dtype": "f8"
         },
         "xaxis": "x",
         "y": {
          "bdata": "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",
          "dtype": "f8"
         },
         "yaxis": "y"
        },
        {
         "hovertemplate": "Cluster=2<br>HoursStudied/Week=%{x}<br>Attendance(%)=%{y}<extra></extra>",
         "legendgroup": "2",
         "marker": {
          "color": "rgb(141,160,203)",
          "opacity": 0.8,
          "symbol": "square"
         },
         "mode": "markers",
         "name": "2",
         "showlegend": true,
         "type": "scattergl",
         "x": {
          "bdata": "mpmZmZmZKkAzMzMzMzMlQM3MzMzMzCNAmpmZmZmZJ0DNzMzMzMwrQGZmZmZmZidAZmZmZmZmJUCamZmZmZkpQM3MzMzMzCVAAAAAAAAAMEDNzMzMzMwtQDMzMzMzMytAAAAAAAAAMEDNzMzMzMwlQGZmZmZmZiVAMzMzMzMzJUDNzMzMzMwpQM3MzMzMzC9AzczMzMzMLEBmZmZmZmYlQM3MzMzMzCRAzczMzMzMJUBmZmZmZmYnQJqZmZmZmSRAmpmZmZmZKUAAAAAAAAAwQDMzMzMzMyVAmpmZmZmZJEBmZmZmZmYoQDMzMzMzMyRAZmZmZmZmKkAzMzMzMzMlQAAAAAAAACdAAAAAAAAAMECamZmZmZklQAAAAAAAADBAAAAAAAAAK0AAAAAAAAAkQAAAAAAAACxAAAAAAAAAMEAAAAAAAAAlQDMzMzMzMyRAZmZmZmZmJ0DNzMzMzMwlQJqZmZmZmSxAMzMzMzMzJEDNzMzMzMwrQGZmZmZmZiRAAAAAAAAALkDNzMzMzMwrQJqZmZmZmShAMzMzMzMzKEAAAAAAAAArQJqZmZmZmSRAAAAAAAAAMEAzMzMzMzMmQM3MzMzMzCZAZmZmZmZmKUCamZmZmZksQJqZmZmZmSlAAAAAAAAAMEDNzMzMzMwpQJqZmZmZmSVAAAAAAAAAKEBmZmZmZmYuQDMzMzMzMyhAmpmZmZmZJUCamZmZmZkkQAAAAAAAADBAZmZmZmZmJEAAAAAAAAAkQJqZmZmZmStAMzMzMzMzLECamZmZmZkmQM3MzMzMzCRAAAAAAAAAJECamZmZmZknQAAAAAAAAC1AAAAAAAAALEDNzMzMzMwpQDMzMzMzMyZAAAAAAAAAMEAAAAAAAAAtQGZmZmZmZiVAZmZmZmZmJUDNzMzMzMwtQDMzMzMzMy5AzczMzMzMJUAAAAAAAAAwQAAAAAAAADBAMzMzMzMzJUCamZmZmZkqQM3MzMzMzCVAZmZmZmZmLECamZmZmZkrQAAAAAAAACRAzczMzMzMKEAzMzMzMzMkQGZmZmZmZi1AZmZmZmZmKEBmZmZmZmYmQGZmZmZmZiVAAAAAAAAAMEDNzMzMzMwkQJqZmZmZmSlAZmZmZmZmLEDNzMzMzMwmQJqZmZmZmS5AAAAAAAAAKkAAAAAAAAAnQAAAAAAAAC5AZmZmZmZmLEAzMzMzMzMnQAAAAAAAADBAmpmZmZmZLECamZmZmZklQDMzMzMzMydAzczMzMzMI0AzMzMzMzMnQAAAAAAAADBAAAAAAAAAKEAAAAAAAAAwQDMzMzMzMy1AmpmZmZmZKUAzMzMzMzMmQDMzMzMzMylAZmZmZmZmJkCamZmZmZkrQAAAAAAAAChAAAAAAAAAMEAAAAAAAAAwQAAAAAAAACRAZmZmZmZmK0CamZmZmZkvQGZmZmZmZixAAAAAAAAAJUDNzMzMzMwlQDMzMzMzMy1AAAAAAAAAJUCamZmZmZkkQAAAAAAAAC1AmpmZmZmZKEAzMzMzMzMoQDMzMzMzMyZAAAAAAAAAJkCamZmZmZkuQAAAAAAAADBAmpmZmZmZJEBmZmZmZmYpQGZmZmZmZihAMzMzMzMzKUDNzMzMzMwtQAAAAAAAADBAAAAAAAAAJEBmZmZmZmYtQM3MzMzMzCRAZmZmZmZmJUCamZmZmZknQGZmZmZmZidAzczMzMzMK0AAAAAAAAAqQM3MzMzMzChAmpmZmZmZKkCamZmZmZkmQGZmZmZmZiRAAAAAAAAAMEBmZmZmZmYpQM3MzMzMzChAZmZmZmZmK0AzMzMzMzMuQM3MzMzMzC1AzczMzMzMKEAAAAAAAAAuQDMzMzMzMyZAMzMzMzMzJUDNzMzMzMwmQGZmZmZmZidAmpmZmZmZKkAAAAAAAAAuQDMzMzMzMypAzczMzMzMKUBmZmZmZmYnQJqZmZmZmSVAmpmZmZmZJUCamZmZmZkqQM3MzMzMzC5AzczMzMzMJ0AzMzMzMzMvQGZmZmZmZi1AZmZmZmZmJkBmZmZmZmYnQM3MzMzMzChAZmZmZmZmKUAAAAAAAAAnQAAAAAAAADBAMzMzMzMzK0AAAAAAAAApQM3MzMzMzC5AAAAAAAAAMECamZmZmZkkQGZmZmZmZilAzczMzMzMLUDNzMzMzMwqQM3MzMzMzCVAAAAAAAAAMEDNzMzMzMwqQDMzMzMzMyRAMzMzMzMzJEDNzMzMzMwqQJqZmZmZmSpAMzMzMzMzJ0CamZmZmZkkQJqZmZmZmSlAmpmZmZmZJUDNzMzMzMwpQAAAAAAAADBAMzMzMzMzJUDNzMzMzMwsQAAAAAAAADBAzczMzMzMKUAAAAAAAAAtQDMzMzMzMylAzczMzMzMLUCamZmZmZkrQGZmZmZmZidAmpmZmZmZK0AzMzMzMzMvQAAAAAAAACZAAAAAAAAAKECamZmZmZkmQGZmZmZmZixAMzMzMzMzJ0AAAAAAAAAlQGZmZmZmZi1AZmZmZmZmLkBmZmZmZmYkQAAAAAAAAChAAAAAAAAAJUAzMzMzMzMlQJqZmZmZmS1AZmZmZmZmK0AAAAAAAAAwQAAAAAAAAC1AZmZmZmZmJEDNzMzMzMwuQM3MzMzMzCdAAAAAAAAAJkCamZmZmZkmQM3MzMzMzCNAAAAAAAAAMECamZmZmZkmQAAAAAAAACVAmpmZmZmZKkBmZmZmZmYqQJqZmZmZmSVAMzMzMzMzJUAAAAAAAAAoQM3MzMzMzCdAMzMzMzMzJ0BmZmZmZmYkQJqZmZmZmS5AzczMzMzMJUBmZmZmZmYmQAAAAAAAAC5AmpmZmZmZJUCamZmZmZktQJqZmZmZmSRAzczMzMzMKkAAAAAAAAAoQAAAAAAAAChAzczMzMzMJ0DNzMzMzMwkQAAAAAAAAC5AAAAAAAAAMEAAAAAAAAAsQAAAAAAAACxAAAAAAAAALUBmZmZmZmYpQM3MzMzMzClAmpmZmZmZKkAzMzMzMzMmQDMzMzMzMyVAZmZmZmZmK0DNzMzMzMwsQAAAAAAAAC5AAAAAAAAAKEAzMzMzMzMvQDMzMzMzMy9AmpmZmZmZLEDNzMzMzMwoQGZmZmZmZixAzczMzMzMJ0BmZmZmZmYrQAAAAAAAADBAAAAAAAAAMEAzMzMzMzMqQM3MzMzMzCVAmpmZmZmZKEBmZmZmZmYmQM3MzMzMzC5AAAAAAAAAMECamZmZmZkpQM3MzMzMzC9AMzMzMzMzJkCamZmZmZkuQGZmZmZmZidAAAAAAAAALUCamZmZmZkoQDMzMzMzMyRAAAAAAAAAMEAAAAAAAAAnQAAAAAAAADBAZmZmZmZmJEDNzMzMzMwmQM3MzMzMzCZAZmZmZmZmKkAzMzMzMzMlQM3MzMzMzCRAAAAAAAAAKUAAAAAAAAAwQGZmZmZmZixAAAAAAAAAJkAAAAAAAAApQJqZmZmZmSVAMzMzMzMzJUAzMzMzMzMsQGZmZmZmZilAMzMzMzMzJECamZmZmZknQJqZmZmZmSZAZmZmZmZmJkAAAAAAAAAnQGZmZmZmZidAMzMzMzMzLUDNzMzMzMwkQJqZmZmZmSRAMzMzMzMzJUAzMzMzMzMoQGZmZmZmZi5AMzMzMzMzKEAAAAAAAAApQM3MzMzMzCtAmpmZmZmZJ0CamZmZmZksQAAAAAAAADBAZmZmZmZmLUDNzMzMzMwuQGZmZmZmZilAMzMzMzMzJkAAAAAAAAAkQAAAAAAAADBAMzMzMzMzLkAAAAAAAAAkQDMzMzMzMytAmpmZmZmZLUDNzMzMzMwoQJqZmZmZmSVAmpmZmZmZK0BmZmZmZmYrQGZmZmZmZixAZmZmZmZmK0AAAAAAAAArQJqZmZmZmSxAAAAAAAAAK0CamZmZmZkmQGZmZmZmZidAAAAAAAAAJEDNzMzMzMwoQAAAAAAAAChAmpmZmZmZJEAAAAAAAAAwQDMzMzMzMyxAZmZmZmZmL0BmZmZmZmYmQAAAAAAAAClAmpmZmZmZJ0BmZmZmZmYqQAAAAAAAACRAAAAAAAAAJEDNzMzMzMwmQAAAAAAAADBAAAAAAAAAMEAzMzMzMzMpQAAAAAAAAC9AZmZmZmZmJEAzMzMzMzMsQM3MzMzMzCxAMzMzMzMzK0AAAAAAAAAwQAAAAAAAACxAMzMzMzMzJECamZmZmZktQAAAAAAAADBAAAAAAAAALkBmZmZmZmYmQGZmZmZmZihAAAAAAAAAJEBmZmZmZmYkQAAAAAAAAC9AMzMzMzMzLUAzMzMzMzMkQAAAAAAAAClAAAAAAAAAMEAzMzMzMzMlQGZmZmZmZiVAZmZmZmZmKkDNzMzMzMwkQAAAAAAAACxAAAAAAAAAMEBmZmZmZmYqQJqZmZmZmS1AZmZmZmZmKUAzMzMzMzMtQJqZmZmZmStAmpmZmZmZKEAAAAAAAAAuQAAAAAAAADBAMzMzMzMzJ0AAAAAAAAAoQAAAAAAAACtAMzMzMzMzLUBmZmZmZmYqQJqZmZmZmSdAzczMzMzMLkAAAAAAAAAwQAAAAAAAADBAzczMzMzMJEBmZmZmZmYoQM3MzMzMzCRAMzMzMzMzLEAAAAAAAAAwQDMzMzMzMyRAzczMzMzMKUAzMzMzMzMkQAAAAAAAADBAMzMzMzMzJEAAAAAAAAAwQM3MzMzMzCRAMzMzMzMzLEAAAAAAAAAoQAAAAAAAAChAzczMzMzMKEAAAAAAAAAnQAAAAAAAADBAAAAAAAAAMEDNzMzMzMwrQM3MzMzMzCNAzczMzMzMLEAzMzMzMzMvQM3MzMzMzCZAmpmZmZmZJkDNzMzMzMwmQDMzMzMzMydAAAAAAAAALkCamZmZmZksQDMzMzMzMyZAzczMzMzMK0AAAAAAAAAwQAAAAAAAADBAAAAAAAAAKkDNzMzMzMwlQAAAAAAAACZAAAAAAAAAKkBmZmZmZmYkQJqZmZmZmSZAMzMzMzMzKEDNzMzMzMwkQDMzMzMzMyhAMzMzMzMzK0AAAAAAAAAwQAAAAAAAADBAAAAAAAAAJUAAAAAAAAApQM3MzMzMzC9AAAAAAAAAJEDNzMzMzMwnQGZmZmZmZiZAAAAAAAAALUDNzMzMzMwuQM3MzMzMzCVAzczMzMzMLEAAAAAAAAAtQJqZmZmZmSdAMzMzMzMzJEAAAAAAAAAwQM3MzMzMzCpAMzMzMzMzLUAAAAAAAAAoQDMzMzMzMylAAAAAAAAAMEAAAAAAAAAnQDMzMzMzMyZAAAAAAAAAKkCamZmZmZktQJqZmZmZmSZAMzMzMzMzJ0CamZmZmZktQAAAAAAAACpAAAAAAAAAJ0DNzMzMzMwqQDMzMzMzMypAMzMzMzMzKECamZmZmZkoQAAAAAAAADBAAAAAAAAAJECamZmZmZksQDMzMzMzMyZAAAAAAAAAMEAAAAAAAAAtQGZmZmZmZiVAmpmZmZmZJkDNzMzMzMwrQJqZmZmZmSRAMzMzMzMzLUCamZmZmZkkQAAAAAAAACZAZmZmZmZmKkAzMzMzMzMqQGZmZmZmZiZAAAAAAAAALUDNzMzMzMwpQAAAAAAAACdAzczMzMzMI0CamZmZmZknQGZmZmZmZipAzczMzMzMJ0CamZmZmZkkQAAAAAAAACRAAAAAAAAAKUCamZmZmZkmQAAAAAAAACpAmpmZmZmZJkDNzMzMzMwrQJqZmZmZmSpAAAAAAAAAMECamZmZmZknQJqZmZmZmSRAmpmZmZmZJUAAAAAAAAAwQJqZmZmZmSdAmpmZmZmZKEAAAAAAAAAqQGZmZmZmZihAAAAAAAAAJUBmZmZmZmYkQDMzMzMzMyZAAAAAAAAAKUCamZmZmZkrQM3MzMzMzCRAAAAAAAAAMEBmZmZmZmYnQM3MzMzMzCxAMzMzMzMzJUAAAAAAAAApQAAAAAAAACZAAAAAAAAAJ0BmZmZmZmYmQAAAAAAAACpAAAAAAAAAMEBmZmZmZmYsQM3MzMzMzCVAAAAAAAAAMEAAAAAAAAAwQGZmZmZmZidAmpmZmZmZJ0BmZmZmZmYoQM3MzMzMzClAAAAAAAAAMECamZmZmZklQJqZmZmZmSRAZmZmZmZmJ0AAAAAAAAArQDMzMzMzMylAAAAAAAAAJECamZmZmZkkQAAAAAAAADBAzczMzMzMJUAAAAAAAAAwQAAAAAAAACtAAAAAAAAAMEDNzMzMzMwjQAAAAAAAADBAmpmZmZmZLkBmZmZmZmYqQJqZmZmZmSlAmpmZmZmZKkAAAAAAAAAnQAAAAAAAAC9AAAAAAAAAKUDNzMzMzMwjQAAAAAAAACVAmpmZmZmZJUAAAAAAAAAwQDMzMzMzMyZAAAAAAAAAJ0AzMzMzMzMoQAAAAAAAAClAAAAAAAAAMEAzMzMzMzMkQJqZmZmZmSRAAAAAAAAAJUBmZmZmZmYqQAAAAAAAADBAAAAAAAAAJEBmZmZmZmYmQDMzMzMzMyxAAAAAAAAAJkAAAAAAAAAtQJqZmZmZmS5AZmZmZmZmKECamZmZmZkmQJqZmZmZmSRAAAAAAAAAJUCamZmZmZkkQGZmZmZmZi1AMzMzMzMzJEAzMzMzMzMpQJqZmZmZmSRAmpmZmZmZJkBmZmZmZmYpQM3MzMzMzCZAZmZmZmZmKEBmZmZmZmYmQM3MzMzMzCpAAAAAAAAAMEBmZmZmZmYmQGZmZmZmZiRAzczMzMzMKUDNzMzMzMwkQDMzMzMzMyRAMzMzMzMzJUCamZmZmZksQGZmZmZmZi1AmpmZmZmZLkDNzMzMzMwjQAAAAAAAACpAzczMzMzMI0AAAAAAAAAwQM3MzMzMzCRAZmZmZmZmJEAAAAAAAAAvQAAAAAAAACdAMzMzMzMzKUAAAAAAAAAwQM3MzMzMzCdAzczMzMzMKEAAAAAAAAAmQGZmZmZmZidAmpmZmZmZJ0DNzMzMzMwpQAAAAAAAACRAmpmZmZmZLEBmZmZmZmYkQAAAAAAAACtAAAAAAAAAKUAAAAAAAAAwQAAAAAAAACtAAAAAAAAAMEBmZmZmZmYpQAAAAAAAADBAMzMzMzMzLUAzMzMzMzMrQJqZmZmZmS1AAAAAAAAAMECamZmZmZknQAAAAAAAAC1AzczMzMzMLkAAAAAAAAApQGZmZmZmZitAzczMzMzMJUAAAAAAAAAwQGZmZmZmZi5AAAAAAAAALUAAAAAAAAAwQAAAAAAAADBAmpmZmZmZJkAAAAAAAAAuQAAAAAAAACVAmpmZmZmZJECamZmZmZklQDMzMzMzMypAZmZmZmZmJEAAAAAAAAAlQJqZmZmZmSZAmpmZmZmZLkBmZmZmZmYvQJqZmZmZmSxAZmZmZmZmJEAAAAAAAAAwQAAAAAAAADBAmpmZmZmZKEBmZmZmZmYrQM3MzMzMzCpAMzMzMzMzLEDNzMzMzMwvQAAAAAAAADBAzczMzMzMJ0DNzMzMzMwjQM3MzMzMzChAzczMzMzMK0CamZmZmZkmQDMzMzMzMy5AmpmZmZmZKEAAAAAAAAAwQDMzMzMzMyVAMzMzMzMzJECamZmZmZklQAAAAAAAADBAmpmZmZmZKUDNzMzMzMwjQAAAAAAAADBAmpmZmZmZKECamZmZmZkkQGZmZmZmZidAMzMzMzMzLkAzMzMzMzMkQAAAAAAAACRAmpmZmZmZLkAAAAAAAAAuQM3MzMzMzChAZmZmZmZmL0BmZmZmZmYoQAAAAAAAACdAAAAAAAAAK0AAAAAAAAAwQAAAAAAAACRAzczMzMzMKkDNzMzMzMwkQGZmZmZmZihAMzMzMzMzJ0DNzMzMzMwsQJqZmZmZmS9AZmZmZmZmJEBmZmZmZmYlQAAAAAAAACZAAAAAAAAAMEAzMzMzMzMlQGZmZmZmZi9AZmZmZmZmJUDNzMzMzMwrQJqZmZmZmSRAZmZmZmZmJ0AAAAAAAAAsQAAAAAAAADBAZmZmZmZmJUDNzMzMzMwoQAAAAAAAACdAMzMzMzMzLEBmZmZmZmYnQGZmZmZmZidAMzMzMzMzJkAAAAAAAAAmQM3MzMzMzChAmpmZmZmZKEAzMzMzMzMnQM3MzMzMzCpAZmZmZmZmLEAAAAAAAAAwQM3MzMzMzChAMzMzMzMzLEAzMzMzMzMpQJqZmZmZmSxAMzMzMzMzKECamZmZmZktQAAAAAAAADBAMzMzMzMzJUAzMzMzMzMtQJqZmZmZmSlAZmZmZmZmKUBmZmZmZmYoQDMzMzMzMyhAAAAAAAAAKUDNzMzMzMwjQGZmZmZmZiRAAAAAAAAAJECamZmZmZknQGZmZmZmZixAZmZmZmZmJUCamZmZmZkmQDMzMzMzMyxAAAAAAAAAJkBmZmZmZmYtQGZmZmZmZiZAZmZmZmZmK0CamZmZmZktQDMzMzMzMytAmpmZmZmZJkBmZmZmZmYrQAAAAAAAACdAMzMzMzMzKkBmZmZmZmYoQJqZmZmZmSZAzczMzMzMKUBmZmZmZmYnQM3MzMzMzCZAZmZmZmZmLkBmZmZmZmYoQAAAAAAAACRAzczMzMzML0AAAAAAAAAkQGZmZmZmZiZAZmZmZmZmJkAAAAAAAAAwQAAAAAAAACVAzczMzMzMJUAzMzMzMzMkQAAAAAAAADBAZmZmZmZmKkAAAAAAAAAvQAAAAAAAADBAAAAAAAAAKEDNzMzMzMwoQJqZmZmZmSZAAAAAAAAAMEAAAAAAAAAlQGZmZmZmZi5AZmZmZmZmKUDNzMzMzMwpQGZmZmZmZiZAMzMzMzMzKkDNzMzMzMwjQJqZmZmZmSdAzczMzMzMJkDNzMzMzMwoQDMzMzMzMy9AmpmZmZmZJEAzMzMzMzMkQGZmZmZmZidAAAAAAAAAJ0DNzMzMzMwnQGZmZmZmZi9AAAAAAAAAJEAzMzMzMzMkQM3MzMzMzCdAmpmZmZmZJUAAAAAAAAAlQM3MzMzMzCpAZmZmZmZmJUDNzMzMzMwoQJqZmZmZmSVAMzMzMzMzKkCamZmZmZktQAAAAAAAADBAMzMzMzMzLEAAAAAAAAAwQGZmZmZmZiRAMzMzMzMzJUAAAAAAAAAtQGZmZmZmZipAmpmZmZmZLkAzMzMzMzMqQAAAAAAAAClAMzMzMzMzKkDNzMzMzMwoQJqZmZmZmSxAZmZmZmZmJkAAAAAAAAAnQDMzMzMzMypAMzMzMzMzKEAAAAAAAAAwQAAAAAAAACRAAAAAAAAALkAzMzMzMzMrQM3MzMzMzChAZmZmZmZmJ0AzMzMzMzMrQDMzMzMzMydAzczMzMzMJkAAAAAAAAAsQM3MzMzMzCtAAAAAAAAAMECamZmZmZkkQJqZmZmZmSpAmpmZmZmZKEAAAAAAAAApQAAAAAAAADBAZmZmZmZmLUCamZmZmZkrQDMzMzMzMyRAZmZmZmZmKUAAAAAAAAAwQDMzMzMzMyVAmpmZmZmZJUDNzMzMzMwmQM3MzMzMzCxAZmZmZmZmKEAzMzMzMzMlQAAAAAAAADBAAAAAAAAAKkDNzMzMzMwnQAAAAAAAACxAMzMzMzMzJEBmZmZmZmYkQM3MzMzMzCtAAAAAAAAAJEAAAAAAAAAwQAAAAAAAACZAZmZmZmZmKEAAAAAAAAAqQDMzMzMzMyZAAAAAAAAAMEAAAAAAAAAwQAAAAAAAADBAAAAAAAAAMECamZmZmZkvQAAAAAAAADBAMzMzMzMzKEDNzMzMzMwpQGZmZmZmZidAZmZmZmZmKECamZmZmZkqQGZmZmZmZipAZmZmZmZmJ0CamZmZmZkmQAAAAAAAACRAMzMzMzMzKUDNzMzMzMwqQJqZmZmZmShAZmZmZmZmKUAzMzMzMzMmQJqZmZmZmShAzczMzMzMK0DNzMzMzMwpQGZmZmZmZitAMzMzMzMzJUDNzMzMzMwqQJqZmZmZmShAzczMzMzMK0DNzMzMzMwlQAAAAAAAACxAZmZmZmZmJ0AAAAAAAAAwQJqZmZmZmSxAAAAAAAAAJ0AAAAAAAAAoQM3MzMzMzCdAAAAAAAAAMEDNzMzMzMwnQM3MzMzMzCtAAAAAAAAAMEDNzMzMzMwtQAAAAAAAADBAMzMzMzMzJEAAAAAAAAApQGZmZmZmZipAMzMzMzMzK0DNzMzMzMwqQJqZmZmZmSpAAAAAAAAAMEAAAAAAAAAlQAAAAAAAACpAmpmZmZmZKEAAAAAAAAAoQDMzMzMzMyVAAAAAAAAAMEDNzMzMzMwoQA==",
          "dtype": "f8"
         },
         "xaxis": "x",
         "y": {
          "bdata": "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",
          "dtype": "f8"
         },
         "yaxis": "y"
        },
        {
         "hovertemplate": "Cluster=1<br>HoursStudied/Week=%{x}<br>Attendance(%)=%{y}<extra></extra>",
         "legendgroup": "1",
         "marker": {
          "color": "rgb(231,138,195)",
          "opacity": 0.8,
          "symbol": "x"
         },
         "mode": "markers",
         "name": "1",
         "showlegend": true,
         "type": "scattergl",
         "x": {
          "bdata": "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",
          "dtype": "f8"
         },
         "xaxis": "x",
         "y": {
          "bdata": "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",
          "dtype": "f8"
         },
         "yaxis": "y"
        },
        {
         "hovertemplate": "Center: (%{x:.2f}, %{y:.2f})<extra></extra>",
         "marker": {
          "color": "gold",
          "line": {
           "color": "black",
           "width": 2
          },
          "size": 14,
          "symbol": "x"
         },
         "mode": "markers",
         "name": "Centers",
         "type": "scatter",
         "x": {
          "bdata": "j8L1KFyPG0A9CtejcL0pQJqZmZmZmSlApHA9CtejGkA=",
          "dtype": "f8"
         },
         "y": {
          "bdata": "exSuR+E6T0C4HoXrUbhVQArXo3A9Kk9ArkfhehQOVkA=",
          "dtype": "f8"
         }
        }
       ],
       "layout": {
        "height": 480,
        "legend": {
         "title": {
          "text": "Cluster"
         },
         "tracegroupgap": 0
        },
        "template": {
         "data": {
          "bar": [
           {
            "error_x": {
             "color": "#2a3f5f"
            },
            "error_y": {
             "color": "#2a3f5f"
            },
            "marker": {
             "line": {
              "color": "white",
              "width": 0.5
             },
             "pattern": {
              "fillmode": "overlay",
              "size": 10,
              "solidity": 0.2
             }
            },
            "type": "bar"
           }
          ],
          "barpolar": [
           {
            "marker": {
             "line": {
              "color": "white",
              "width": 0.5
             },
             "pattern": {
              "fillmode": "overlay",
              "size": 10,
              "solidity": 0.2
             }
            },
            "type": "barpolar"
           }
          ],
          "carpet": [
           {
            "aaxis": {
             "endlinecolor": "#2a3f5f",
             "gridcolor": "#C8D4E3",
             "linecolor": "#C8D4E3",
             "minorgridcolor": "#C8D4E3",
             "startlinecolor": "#2a3f5f"
            },
            "baxis": {
             "endlinecolor": "#2a3f5f",
             "gridcolor": "#C8D4E3",
             "linecolor": "#C8D4E3",
             "minorgridcolor": "#C8D4E3",
             "startlinecolor": "#2a3f5f"
            },
            "type": "carpet"
           }
          ],
          "choropleth": [
           {
            "colorbar": {
             "outlinewidth": 0,
             "ticks": ""
            },
            "type": "choropleth"
           }
          ],
          "contour": [
           {
            "colorbar": {
             "outlinewidth": 0,
             "ticks": ""
            },
            "colorscale": [
             [
              0,
              "#0d0887"
             ],
             [
              0.1111111111111111,
              "#46039f"
             ],
             [
              0.2222222222222222,
              "#7201a8"
             ],
             [
              0.3333333333333333,
              "#9c179e"
             ],
             [
              0.4444444444444444,
              "#bd3786"
             ],
             [
              0.5555555555555556,
              "#d8576b"
             ],
             [
              0.6666666666666666,
              "#ed7953"
             ],
             [
              0.7777777777777778,
              "#fb9f3a"
             ],
             [
              0.8888888888888888,
              "#fdca26"
             ],
             [
              1,
              "#f0f921"
             ]
            ],
            "type": "contour"
           }
          ],
          "contourcarpet": [
           {
            "colorbar": {
             "outlinewidth": 0,
             "ticks": ""
            },
            "type": "contourcarpet"
           }
          ],
          "heatmap": [
           {
            "colorbar": {
             "outlinewidth": 0,
             "ticks": ""
            },
            "colorscale": [
             [
              0,
              "#0d0887"
             ],
             [
              0.1111111111111111,
              "#46039f"
             ],
             [
              0.2222222222222222,
              "#7201a8"
             ],
             [
              0.3333333333333333,
              "#9c179e"
             ],
             [
              0.4444444444444444,
              "#bd3786"
             ],
             [
              0.5555555555555556,
              "#d8576b"
             ],
             [
              0.6666666666666666,
              "#ed7953"
             ],
             [
              0.7777777777777778,
              "#fb9f3a"
             ],
             [
              0.8888888888888888,
              "#fdca26"
             ],
             [
              1,
              "#f0f921"
             ]
            ],
            "type": "heatmap"
           }
          ],
          "histogram": [
           {
            "marker": {
             "pattern": {
              "fillmode": "overlay",
              "size": 10,
              "solidity": 0.2
             }
            },
            "type": "histogram"
           }
          ],
          "histogram2d": [
           {
            "colorbar": {
             "outlinewidth": 0,
             "ticks": ""
            },
            "colorscale": [
             [
              0,
              "#0d0887"
             ],
             [
              0.1111111111111111,
              "#46039f"
             ],
             [
              0.2222222222222222,
              "#7201a8"
             ],
             [
              0.3333333333333333,
              "#9c179e"
             ],
             [
              0.4444444444444444,
              "#bd3786"
             ],
             [
              0.5555555555555556,
              "#d8576b"
             ],
             [
              0.6666666666666666,
              "#ed7953"
             ],
             [
              0.7777777777777778,
              "#fb9f3a"
             ],
             [
              0.8888888888888888,
              "#fdca26"
             ],
             [
              1,
              "#f0f921"
             ]
            ],
            "type": "histogram2d"
           }
          ],
          "histogram2dcontour": [
           {
            "colorbar": {
             "outlinewidth": 0,
             "ticks": ""
            },
            "colorscale": [
             [
              0,
              "#0d0887"
             ],
             [
              0.1111111111111111,
              "#46039f"
             ],
             [
              0.2222222222222222,
              "#7201a8"
             ],
             [
              0.3333333333333333,
              "#9c179e"
             ],
             [
              0.4444444444444444,
              "#bd3786"
             ],
             [
              0.5555555555555556,
              "#d8576b"
             ],
             [
              0.6666666666666666,
              "#ed7953"
             ],
             [
              0.7777777777777778,
              "#fb9f3a"
             ],
             [
              0.8888888888888888,
              "#fdca26"
             ],
             [
              1,
              "#f0f921"
             ]
            ],
            "type": "histogram2dcontour"
           }
          ],
          "mesh3d": [
           {
            "colorbar": {
             "outlinewidth": 0,
             "ticks": ""
            },
            "type": "mesh3d"
           }
          ],
          "parcoords": [
           {
            "line": {
             "colorbar": {
              "outlinewidth": 0,
              "ticks": ""
             }
            },
            "type": "parcoords"
           }
          ],
          "pie": [
           {
            "automargin": true,
            "type": "pie"
           }
          ],
          "scatter": [
           {
            "fillpattern": {
             "fillmode": "overlay",
             "size": 10,
             "solidity": 0.2
            },
            "type": "scatter"
           }
          ],
          "scatter3d": [
           {
            "line": {
             "colorbar": {
              "outlinewidth": 0,
              "ticks": ""
             }
            },
            "marker": {
             "colorbar": {
              "outlinewidth": 0,
              "ticks": ""
             }
            },
            "type": "scatter3d"
           }
          ],
          "scattercarpet": [
           {
            "marker": {
             "colorbar": {
              "outlinewidth": 0,
              "ticks": ""
             }
            },
            "type": "scattercarpet"
           }
          ],
          "scattergeo": [
           {
            "marker": {
             "colorbar": {
              "outlinewidth": 0,
              "ticks": ""
             }
            },
            "type": "scattergeo"
           }
          ],
          "scattergl": [
           {
            "marker": {
             "colorbar": {
              "outlinewidth": 0,
              "ticks": ""
             }
            },
            "type": "scattergl"
           }
          ],
          "scattermap": [
           {
            "marker": {
             "colorbar": {
              "outlinewidth": 0,
              "ticks": ""
             }
            },
            "type": "scattermap"
           }
          ],
          "scattermapbox": [
           {
            "marker": {
             "colorbar": {
              "outlinewidth": 0,
              "ticks": ""
             }
            },
            "type": "scattermapbox"
           }
          ],
          "scatterpolar": [
           {
            "marker": {
             "colorbar": {
              "outlinewidth": 0,
              "ticks": ""
             }
            },
            "type": "scatterpolar"
           }
          ],
          "scatterpolargl": [
           {
            "marker": {
             "colorbar": {
              "outlinewidth": 0,
              "ticks": ""
             }
            },
            "type": "scatterpolargl"
           }
          ],
          "scatterternary": [
           {
            "marker": {
             "colorbar": {
              "outlinewidth": 0,
              "ticks": ""
             }
            },
            "type": "scatterternary"
           }
          ],
          "surface": [
           {
            "colorbar": {
             "outlinewidth": 0,
             "ticks": ""
            },
            "colorscale": [
             [
              0,
              "#0d0887"
             ],
             [
              0.1111111111111111,
              "#46039f"
             ],
             [
              0.2222222222222222,
              "#7201a8"
             ],
             [
              0.3333333333333333,
              "#9c179e"
             ],
             [
              0.4444444444444444,
              "#bd3786"
             ],
             [
              0.5555555555555556,
              "#d8576b"
             ],
             [
              0.6666666666666666,
              "#ed7953"
             ],
             [
              0.7777777777777778,
              "#fb9f3a"
             ],
             [
              0.8888888888888888,
              "#fdca26"
             ],
             [
              1,
              "#f0f921"
             ]
            ],
            "type": "surface"
           }
          ],
          "table": [
           {
            "cells": {
             "fill": {
              "color": "#EBF0F8"
             },
             "line": {
              "color": "white"
             }
            },
            "header": {
             "fill": {
              "color": "#C8D4E3"
             },
             "line": {
              "color": "white"
             }
            },
            "type": "table"
           }
          ]
         },
         "layout": {
          "annotationdefaults": {
           "arrowcolor": "#2a3f5f",
           "arrowhead": 0,
           "arrowwidth": 1
          },
          "autotypenumbers": "strict",
          "coloraxis": {
           "colorbar": {
            "outlinewidth": 0,
            "ticks": ""
           }
          },
          "colorscale": {
           "diverging": [
            [
             0,
             "#8e0152"
            ],
            [
             0.1,
             "#c51b7d"
            ],
            [
             0.2,
             "#de77ae"
            ],
            [
             0.3,
             "#f1b6da"
            ],
            [
             0.4,
             "#fde0ef"
            ],
            [
             0.5,
             "#f7f7f7"
            ],
            [
             0.6,
             "#e6f5d0"
            ],
            [
             0.7,
             "#b8e186"
            ],
            [
             0.8,
             "#7fbc41"
            ],
            [
             0.9,
             "#4d9221"
            ],
            [
             1,
             "#276419"
            ]
           ],
           "sequential": [
            [
             0,
             "#0d0887"
            ],
            [
             0.1111111111111111,
             "#46039f"
            ],
            [
             0.2222222222222222,
             "#7201a8"
            ],
            [
             0.3333333333333333,
             "#9c179e"
            ],
            [
             0.4444444444444444,
             "#bd3786"
            ],
            [
             0.5555555555555556,
             "#d8576b"
            ],
            [
             0.6666666666666666,
             "#ed7953"
            ],
            [
             0.7777777777777778,
             "#fb9f3a"
            ],
            [
             0.8888888888888888,
             "#fdca26"
            ],
            [
             1,
             "#f0f921"
            ]
           ],
           "sequentialminus": [
            [
             0,
             "#0d0887"
            ],
            [
             0.1111111111111111,
             "#46039f"
            ],
            [
             0.2222222222222222,
             "#7201a8"
            ],
            [
             0.3333333333333333,
             "#9c179e"
            ],
            [
             0.4444444444444444,
             "#bd3786"
            ],
            [
             0.5555555555555556,
             "#d8576b"
            ],
            [
             0.6666666666666666,
             "#ed7953"
            ],
            [
             0.7777777777777778,
             "#fb9f3a"
            ],
            [
             0.8888888888888888,
             "#fdca26"
            ],
            [
             1,
             "#f0f921"
            ]
           ]
          },
          "colorway": [
           "#636efa",
           "#EF553B",
           "#00cc96",
           "#ab63fa",
           "#FFA15A",
           "#19d3f3",
           "#FF6692",
           "#B6E880",
           "#FF97FF",
           "#FECB52"
          ],
          "font": {
           "color": "#2a3f5f"
          },
          "geo": {
           "bgcolor": "white",
           "lakecolor": "white",
           "landcolor": "white",
           "showlakes": true,
           "showland": true,
           "subunitcolor": "#C8D4E3"
          },
          "hoverlabel": {
           "align": "left"
          },
          "hovermode": "closest",
          "mapbox": {
           "style": "light"
          },
          "paper_bgcolor": "white",
          "plot_bgcolor": "white",
          "polar": {
           "angularaxis": {
            "gridcolor": "#EBF0F8",
            "linecolor": "#EBF0F8",
            "ticks": ""
           },
           "bgcolor": "white",
           "radialaxis": {
            "gridcolor": "#EBF0F8",
            "linecolor": "#EBF0F8",
            "ticks": ""
           }
          },
          "scene": {
           "xaxis": {
            "backgroundcolor": "white",
            "gridcolor": "#DFE8F3",
            "gridwidth": 2,
            "linecolor": "#EBF0F8",
            "showbackground": true,
            "ticks": "",
            "zerolinecolor": "#EBF0F8"
           },
           "yaxis": {
            "backgroundcolor": "white",
            "gridcolor": "#DFE8F3",
            "gridwidth": 2,
            "linecolor": "#EBF0F8",
            "showbackground": true,
            "ticks": "",
            "zerolinecolor": "#EBF0F8"
           },
           "zaxis": {
            "backgroundcolor": "white",
            "gridcolor": "#DFE8F3",
            "gridwidth": 2,
            "linecolor": "#EBF0F8",
            "showbackground": true,
            "ticks": "",
            "zerolinecolor": "#EBF0F8"
           }
          },
          "shapedefaults": {
           "line": {
            "color": "#2a3f5f"
           }
          },
          "ternary": {
           "aaxis": {
            "gridcolor": "#DFE8F3",
            "linecolor": "#A2B1C6",
            "ticks": ""
           },
           "baxis": {
            "gridcolor": "#DFE8F3",
            "linecolor": "#A2B1C6",
            "ticks": ""
           },
           "bgcolor": "white",
           "caxis": {
            "gridcolor": "#DFE8F3",
            "linecolor": "#A2B1C6",
            "ticks": ""
           }
          },
          "title": {
           "x": 0.05
          },
          "xaxis": {
           "automargin": true,
           "gridcolor": "#EBF0F8",
           "linecolor": "#EBF0F8",
           "ticks": "",
           "title": {
            "standoff": 15
           },
           "zerolinecolor": "#EBF0F8",
           "zerolinewidth": 2
          },
          "yaxis": {
           "automargin": true,
           "gridcolor": "#EBF0F8",
           "linecolor": "#EBF0F8",
           "ticks": "",
           "title": {
            "standoff": 15
           },
           "zerolinecolor": "#EBF0F8",
           "zerolinewidth": 2
          }
         }
        },
        "title": {
         "text": "KMeans Clustering (k=4)"
        },
        "width": 720,
        "xaxis": {
         "anchor": "y",
         "domain": [
          0,
          1
         ],
         "title": {
          "text": "HoursStudied/Week"
         }
        },
        "yaxis": {
         "anchor": "x",
         "domain": [
          0,
          1
         ],
         "title": {
          "text": "Attendance(%)"
         }
        }
       }
      }
     },
     "metadata": {},
     "output_type": "display_data"
    },
    {
     "data": {
      "application/vnd.plotly.v1+json": {
       "config": {
        "plotlyServerURL": "https://plot.ly"
       },
       "data": [
        {
         "cells": {
          "align": "center",
          "fill": {
           "color": [
            [
             "#f0f8ff",
             "#e6f3ff",
             "#f0f8ff",
             "#e6f3ff"
            ]
           ]
          },
          "font": {
           "color": "black",
           "size": 12
          },
          "height": 30,
          "values": [
           [
            0,
            1,
            2,
            3
           ],
           [
            997,
            1077,
            956,
            970
           ]
          ]
         },
         "header": {
          "align": "center",
          "fill": {
           "color": "#004c6d"
          },
          "font": {
           "color": "white",
           "size": 14
          },
          "height": 35,
          "values": [
           "Cluster",
           "Size"
          ]
         },
         "type": "table"
        }
       ],
       "layout": {
        "height": 300,
        "template": {
         "data": {
          "bar": [
           {
            "error_x": {
             "color": "#2a3f5f"
            },
            "error_y": {
             "color": "#2a3f5f"
            },
            "marker": {
             "line": {
              "color": "white",
              "width": 0.5
             },
             "pattern": {
              "fillmode": "overlay",
              "size": 10,
              "solidity": 0.2
             }
            },
            "type": "bar"
           }
          ],
          "barpolar": [
           {
            "marker": {
             "line": {
              "color": "white",
              "width": 0.5
             },
             "pattern": {
              "fillmode": "overlay",
              "size": 10,
              "solidity": 0.2
             }
            },
            "type": "barpolar"
           }
          ],
          "carpet": [
           {
            "aaxis": {
             "endlinecolor": "#2a3f5f",
             "gridcolor": "#C8D4E3",
             "linecolor": "#C8D4E3",
             "minorgridcolor": "#C8D4E3",
             "startlinecolor": "#2a3f5f"
            },
            "baxis": {
             "endlinecolor": "#2a3f5f",
             "gridcolor": "#C8D4E3",
             "linecolor": "#C8D4E3",
             "minorgridcolor": "#C8D4E3",
             "startlinecolor": "#2a3f5f"
            },
            "type": "carpet"
           }
          ],
          "choropleth": [
           {
            "colorbar": {
             "outlinewidth": 0,
             "ticks": ""
            },
            "type": "choropleth"
           }
          ],
          "contour": [
           {
            "colorbar": {
             "outlinewidth": 0,
             "ticks": ""
            },
            "colorscale": [
             [
              0,
              "#0d0887"
             ],
             [
              0.1111111111111111,
              "#46039f"
             ],
             [
              0.2222222222222222,
              "#7201a8"
             ],
             [
              0.3333333333333333,
              "#9c179e"
             ],
             [
              0.4444444444444444,
              "#bd3786"
             ],
             [
              0.5555555555555556,
              "#d8576b"
             ],
             [
              0.6666666666666666,
              "#ed7953"
             ],
             [
              0.7777777777777778,
              "#fb9f3a"
             ],
             [
              0.8888888888888888,
              "#fdca26"
             ],
             [
              1,
              "#f0f921"
             ]
            ],
            "type": "contour"
           }
          ],
          "contourcarpet": [
           {
            "colorbar": {
             "outlinewidth": 0,
             "ticks": ""
            },
            "type": "contourcarpet"
           }
          ],
          "heatmap": [
           {
            "colorbar": {
             "outlinewidth": 0,
             "ticks": ""
            },
            "colorscale": [
             [
              0,
              "#0d0887"
             ],
             [
              0.1111111111111111,
              "#46039f"
             ],
             [
              0.2222222222222222,
              "#7201a8"
             ],
             [
              0.3333333333333333,
              "#9c179e"
             ],
             [
              0.4444444444444444,
              "#bd3786"
             ],
             [
              0.5555555555555556,
              "#d8576b"
             ],
             [
              0.6666666666666666,
              "#ed7953"
             ],
             [
              0.7777777777777778,
              "#fb9f3a"
             ],
             [
              0.8888888888888888,
              "#fdca26"
             ],
             [
              1,
              "#f0f921"
             ]
            ],
            "type": "heatmap"
           }
          ],
          "histogram": [
           {
            "marker": {
             "pattern": {
              "fillmode": "overlay",
              "size": 10,
              "solidity": 0.2
             }
            },
            "type": "histogram"
           }
          ],
          "histogram2d": [
           {
            "colorbar": {
             "outlinewidth": 0,
             "ticks": ""
            },
            "colorscale": [
             [
              0,
              "#0d0887"
             ],
             [
              0.1111111111111111,
              "#46039f"
             ],
             [
              0.2222222222222222,
              "#7201a8"
             ],
             [
              0.3333333333333333,
              "#9c179e"
             ],
             [
              0.4444444444444444,
              "#bd3786"
             ],
             [
              0.5555555555555556,
              "#d8576b"
             ],
             [
              0.6666666666666666,
              "#ed7953"
             ],
             [
              0.7777777777777778,
              "#fb9f3a"
             ],
             [
              0.8888888888888888,
              "#fdca26"
             ],
             [
              1,
              "#f0f921"
             ]
            ],
            "type": "histogram2d"
           }
          ],
          "histogram2dcontour": [
           {
            "colorbar": {
             "outlinewidth": 0,
             "ticks": ""
            },
            "colorscale": [
             [
              0,
              "#0d0887"
             ],
             [
              0.1111111111111111,
              "#46039f"
             ],
             [
              0.2222222222222222,
              "#7201a8"
             ],
             [
              0.3333333333333333,
              "#9c179e"
             ],
             [
              0.4444444444444444,
              "#bd3786"
             ],
             [
              0.5555555555555556,
              "#d8576b"
             ],
             [
              0.6666666666666666,
              "#ed7953"
             ],
             [
              0.7777777777777778,
              "#fb9f3a"
             ],
             [
              0.8888888888888888,
              "#fdca26"
             ],
             [
              1,
              "#f0f921"
             ]
            ],
            "type": "histogram2dcontour"
           }
          ],
          "mesh3d": [
           {
            "colorbar": {
             "outlinewidth": 0,
             "ticks": ""
            },
            "type": "mesh3d"
           }
          ],
          "parcoords": [
           {
            "line": {
             "colorbar": {
              "outlinewidth": 0,
              "ticks": ""
             }
            },
            "type": "parcoords"
           }
          ],
          "pie": [
           {
            "automargin": true,
            "type": "pie"
           }
          ],
          "scatter": [
           {
            "fillpattern": {
             "fillmode": "overlay",
             "size": 10,
             "solidity": 0.2
            },
            "type": "scatter"
           }
          ],
          "scatter3d": [
           {
            "line": {
             "colorbar": {
              "outlinewidth": 0,
              "ticks": ""
             }
            },
            "marker": {
             "colorbar": {
              "outlinewidth": 0,
              "ticks": ""
             }
            },
            "type": "scatter3d"
           }
          ],
          "scattercarpet": [
           {
            "marker": {
             "colorbar": {
              "outlinewidth": 0,
              "ticks": ""
             }
            },
            "type": "scattercarpet"
           }
          ],
          "scattergeo": [
           {
            "marker": {
             "colorbar": {
              "outlinewidth": 0,
              "ticks": ""
             }
            },
            "type": "scattergeo"
           }
          ],
          "scattergl": [
           {
            "marker": {
             "colorbar": {
              "outlinewidth": 0,
              "ticks": ""
             }
            },
            "type": "scattergl"
           }
          ],
          "scattermap": [
           {
            "marker": {
             "colorbar": {
              "outlinewidth": 0,
              "ticks": ""
             }
            },
            "type": "scattermap"
           }
          ],
          "scattermapbox": [
           {
            "marker": {
             "colorbar": {
              "outlinewidth": 0,
              "ticks": ""
             }
            },
            "type": "scattermapbox"
           }
          ],
          "scatterpolar": [
           {
            "marker": {
             "colorbar": {
              "outlinewidth": 0,
              "ticks": ""
             }
            },
            "type": "scatterpolar"
           }
          ],
          "scatterpolargl": [
           {
            "marker": {
             "colorbar": {
              "outlinewidth": 0,
              "ticks": ""
             }
            },
            "type": "scatterpolargl"
           }
          ],
          "scatterternary": [
           {
            "marker": {
             "colorbar": {
              "outlinewidth": 0,
              "ticks": ""
             }
            },
            "type": "scatterternary"
           }
          ],
          "surface": [
           {
            "colorbar": {
             "outlinewidth": 0,
             "ticks": ""
            },
            "colorscale": [
             [
              0,
              "#0d0887"
             ],
             [
              0.1111111111111111,
              "#46039f"
             ],
             [
              0.2222222222222222,
              "#7201a8"
             ],
             [
              0.3333333333333333,
              "#9c179e"
             ],
             [
              0.4444444444444444,
              "#bd3786"
             ],
             [
              0.5555555555555556,
              "#d8576b"
             ],
             [
              0.6666666666666666,
              "#ed7953"
             ],
             [
              0.7777777777777778,
              "#fb9f3a"
             ],
             [
              0.8888888888888888,
              "#fdca26"
             ],
             [
              1,
              "#f0f921"
             ]
            ],
            "type": "surface"
           }
          ],
          "table": [
           {
            "cells": {
             "fill": {
              "color": "#EBF0F8"
             },
             "line": {
              "color": "white"
             }
            },
            "header": {
             "fill": {
              "color": "#C8D4E3"
             },
             "line": {
              "color": "white"
             }
            },
            "type": "table"
           }
          ]
         },
         "layout": {
          "annotationdefaults": {
           "arrowcolor": "#2a3f5f",
           "arrowhead": 0,
           "arrowwidth": 1
          },
          "autotypenumbers": "strict",
          "coloraxis": {
           "colorbar": {
            "outlinewidth": 0,
            "ticks": ""
           }
          },
          "colorscale": {
           "diverging": [
            [
             0,
             "#8e0152"
            ],
            [
             0.1,
             "#c51b7d"
            ],
            [
             0.2,
             "#de77ae"
            ],
            [
             0.3,
             "#f1b6da"
            ],
            [
             0.4,
             "#fde0ef"
            ],
            [
             0.5,
             "#f7f7f7"
            ],
            [
             0.6,
             "#e6f5d0"
            ],
            [
             0.7,
             "#b8e186"
            ],
            [
             0.8,
             "#7fbc41"
            ],
            [
             0.9,
             "#4d9221"
            ],
            [
             1,
             "#276419"
            ]
           ],
           "sequential": [
            [
             0,
             "#0d0887"
            ],
            [
             0.1111111111111111,
             "#46039f"
            ],
            [
             0.2222222222222222,
             "#7201a8"
            ],
            [
             0.3333333333333333,
             "#9c179e"
            ],
            [
             0.4444444444444444,
             "#bd3786"
            ],
            [
             0.5555555555555556,
             "#d8576b"
            ],
            [
             0.6666666666666666,
             "#ed7953"
            ],
            [
             0.7777777777777778,
             "#fb9f3a"
            ],
            [
             0.8888888888888888,
             "#fdca26"
            ],
            [
             1,
             "#f0f921"
            ]
           ],
           "sequentialminus": [
            [
             0,
             "#0d0887"
            ],
            [
             0.1111111111111111,
             "#46039f"
            ],
            [
             0.2222222222222222,
             "#7201a8"
            ],
            [
             0.3333333333333333,
             "#9c179e"
            ],
            [
             0.4444444444444444,
             "#bd3786"
            ],
            [
             0.5555555555555556,
             "#d8576b"
            ],
            [
             0.6666666666666666,
             "#ed7953"
            ],
            [
             0.7777777777777778,
             "#fb9f3a"
            ],
            [
             0.8888888888888888,
             "#fdca26"
            ],
            [
             1,
             "#f0f921"
            ]
           ]
          },
          "colorway": [
           "#636efa",
           "#EF553B",
           "#00cc96",
           "#ab63fa",
           "#FFA15A",
           "#19d3f3",
           "#FF6692",
           "#B6E880",
           "#FF97FF",
           "#FECB52"
          ],
          "font": {
           "color": "#2a3f5f"
          },
          "geo": {
           "bgcolor": "white",
           "lakecolor": "white",
           "landcolor": "white",
           "showlakes": true,
           "showland": true,
           "subunitcolor": "#C8D4E3"
          },
          "hoverlabel": {
           "align": "left"
          },
          "hovermode": "closest",
          "mapbox": {
           "style": "light"
          },
          "paper_bgcolor": "white",
          "plot_bgcolor": "white",
          "polar": {
           "angularaxis": {
            "gridcolor": "#EBF0F8",
            "linecolor": "#EBF0F8",
            "ticks": ""
           },
           "bgcolor": "white",
           "radialaxis": {
            "gridcolor": "#EBF0F8",
            "linecolor": "#EBF0F8",
            "ticks": ""
           }
          },
          "scene": {
           "xaxis": {
            "backgroundcolor": "white",
            "gridcolor": "#DFE8F3",
            "gridwidth": 2,
            "linecolor": "#EBF0F8",
            "showbackground": true,
            "ticks": "",
            "zerolinecolor": "#EBF0F8"
           },
           "yaxis": {
            "backgroundcolor": "white",
            "gridcolor": "#DFE8F3",
            "gridwidth": 2,
            "linecolor": "#EBF0F8",
            "showbackground": true,
            "ticks": "",
            "zerolinecolor": "#EBF0F8"
           },
           "zaxis": {
            "backgroundcolor": "white",
            "gridcolor": "#DFE8F3",
            "gridwidth": 2,
            "linecolor": "#EBF0F8",
            "showbackground": true,
            "ticks": "",
            "zerolinecolor": "#EBF0F8"
           }
          },
          "shapedefaults": {
           "line": {
            "color": "#2a3f5f"
           }
          },
          "ternary": {
           "aaxis": {
            "gridcolor": "#DFE8F3",
            "linecolor": "#A2B1C6",
            "ticks": ""
           },
           "baxis": {
            "gridcolor": "#DFE8F3",
            "linecolor": "#A2B1C6",
            "ticks": ""
           },
           "bgcolor": "white",
           "caxis": {
            "gridcolor": "#DFE8F3",
            "linecolor": "#A2B1C6",
            "ticks": ""
           }
          },
          "title": {
           "x": 0.05
          },
          "xaxis": {
           "automargin": true,
           "gridcolor": "#EBF0F8",
           "linecolor": "#EBF0F8",
           "ticks": "",
           "title": {
            "standoff": 15
           },
           "zerolinecolor": "#EBF0F8",
           "zerolinewidth": 2
          },
          "yaxis": {
           "automargin": true,
           "gridcolor": "#EBF0F8",
           "linecolor": "#EBF0F8",
           "ticks": "",
           "title": {
            "standoff": 15
           },
           "zerolinecolor": "#EBF0F8",
           "zerolinewidth": 2
          }
         }
        },
        "width": 500
       }
      }
     },
     "metadata": {},
     "output_type": "display_data"
    }
   ],
   "source": [
    "def kmeans_clustering_auto(X, scale=True, max_k=10, random_state=42):\n",
    "    if scale:\n",
    "        scaler = StandardScaler()\n",
    "        X_scaled = scaler.fit_transform(X)\n",
    "    else:\n",
    "        X_scaled = X.values\n",
    "\n",
    "    Ks = list(range(2, max_k + 1))\n",
    "    inertia_list = []\n",
    "    for k in Ks:\n",
    "        km = KMeans(n_clusters=k, random_state=random_state, n_init=10)\n",
    "        km.fit(X_scaled)\n",
    "        inertia_list.append(km.inertia_)\n",
    "\n",
    "    p1 = np.array([Ks[0], inertia_list[0]])\n",
    "    p2 = np.array([Ks[-1], inertia_list[-1]])\n",
    "    distances = []\n",
    "    for i in range(len(Ks)):\n",
    "        p = np.array([Ks[i], inertia_list[i]])\n",
    "        dist = np.abs(np.cross(p2 - p1, p1 - p)) / np.linalg.norm(p2 - p1)\n",
    "        distances.append(dist)\n",
    "    k_optimal = Ks[int(np.argmax(distances))]\n",
    "\n",
    "    fig_elbow = go.Figure()\n",
    "    fig_elbow.add_trace(go.Scatter(\n",
    "        x=Ks,\n",
    "        y=inertia_list,\n",
    "        mode='lines+markers',\n",
    "        marker=dict(color='#1f77b4', size=8),\n",
    "        line=dict(width=2),\n",
    "        name=\"Inertia\"\n",
    "    ))\n",
    "    fig_elbow.add_vline(\n",
    "        x=k_optimal,\n",
    "        line=dict(color='red', dash='dash'),\n",
    "        annotation_text=f\"Optimal k = {k_optimal}\",\n",
    "        annotation_position=\"top right\"\n",
    "    )\n",
    "    fig_elbow.update_layout(\n",
    "        title=\"Elbow Method for Optimal K\",\n",
    "        template=\"plotly_white\",\n",
    "        xaxis_title=\"Number of Clusters (k)\",\n",
    "        yaxis_title=\"Inertia\",\n",
    "        width=700,\n",
    "        height=450\n",
    "    )\n",
    "    fig_elbow.show()\n",
    "\n",
    "    kmeans = KMeans(n_clusters=k_optimal, random_state=random_state, n_init=10)\n",
    "    labels = kmeans.fit_predict(X_scaled)\n",
    "\n",
    "    if scale:\n",
    "        centers = scaler.inverse_transform(kmeans.cluster_centers_)\n",
    "    else:\n",
    "        centers = kmeans.cluster_centers_\n",
    "\n",
    "\n",
    "    df_plot = X.copy().reset_index(drop=True)\n",
    "    df_plot[\"Cluster\"] = labels.astype(str)\n",
    "\n",
    "    fig_clusters = px.scatter(\n",
    "        df_plot,\n",
    "        x=X.columns[0],\n",
    "        y=X.columns[1],\n",
    "        color=\"Cluster\",\n",
    "        symbol=\"Cluster\",\n",
    "        opacity=0.8,\n",
    "        color_discrete_sequence=px.colors.qualitative.Set2,\n",
    "        title=f\"KMeans Clustering (k={k_optimal})\",\n",
    "        template=\"plotly_white\"\n",
    "    )\n",
    "    centers_rounded = np.round(centers, 2)\n",
    "    fig_clusters.add_trace(go.Scatter(\n",
    "        x=centers_rounded[:, 0],\n",
    "        y=centers_rounded[:, 1],\n",
    "        mode='markers',\n",
    "        marker=dict(color='gold', size=14, symbol='x', line=dict(width=2, color='black')),\n",
    "        name='Centers',\n",
    "        hovertemplate='Center: (%{x:.2f}, %{y:.2f})<extra></extra>'\n",
    "    ))\n",
    "    fig_clusters.update_layout(width=720, height=480)\n",
    "    fig_clusters.show()\n",
    "\n",
    "    cluster_sizes = pd.Series(labels).value_counts().sort_index()\n",
    "    eval_df = pd.DataFrame({\n",
    "        \"Cluster\": range(k_optimal),\n",
    "        \"Size\": cluster_sizes.values,\n",
    "    })\n",
    "\n",
    "    eval_df[\"Size\"] = eval_df[\"Size\"].astype(int)\n",
    "\n",
    "    fig_table = go.Figure(data=[go.Table(\n",
    "        header=dict(\n",
    "            values=list(eval_df.columns),\n",
    "            fill_color='#004c6d',\n",
    "            align='center',\n",
    "            font=dict(color='white', size=14),\n",
    "            height=35\n",
    "        ),\n",
    "        cells=dict(\n",
    "            values=[eval_df[col] for col in eval_df.columns],\n",
    "            fill_color=[['#f0f8ff' if i % 2 == 0 else '#e6f3ff'\n",
    "                         for i in range(len(eval_df))]],\n",
    "            align='center',\n",
    "            font=dict(color='black', size=12),\n",
    "            height=30\n",
    "        )\n",
    "    )])\n",
    "    fig_table.update_layout(template=\"plotly_white\", width=500, height=300)\n",
    "    fig_table.show()\n",
    "\n",
    "    return labels, np.round(centers, 2), k_optimal\n",
    "\n",
    "df = pd.read_csv(\"student-academic-performance.csv\")\n",
    "X_clu = df[['HoursStudied/Week', 'Attendance(%)']]\n",
    "labels, centers, k_opt = kmeans_clustering_auto(X_clu, scale=True, max_k=8)\n"
   ]
  },
  {
   "cell_type": "markdown",
   "id": "814aeb99",
   "metadata": {},
   "source": [
    "Recommender systems: Based on user"
   ]
  },
  {
   "cell_type": "code",
   "execution_count": 7,
   "id": "c4fe738a",
   "metadata": {},
   "outputs": [
    {
     "name": "stdout",
     "output_type": "stream",
     "text": [
      "{'HoursStudied/Week': 10.0, 'Attendance(%)': 90.0}\n"
     ]
    },
    {
     "data": {
      "text/html": [
       "<div>\n",
       "<style scoped>\n",
       "    .dataframe tbody tr th:only-of-type {\n",
       "        vertical-align: middle;\n",
       "    }\n",
       "\n",
       "    .dataframe tbody tr th {\n",
       "        vertical-align: top;\n",
       "    }\n",
       "\n",
       "    .dataframe thead th {\n",
       "        text-align: right;\n",
       "    }\n",
       "</style>\n",
       "<table border=\"1\" class=\"dataframe\">\n",
       "  <thead>\n",
       "    <tr style=\"text-align: right;\">\n",
       "      <th></th>\n",
       "      <th>HoursStudied/Week</th>\n",
       "      <th>Attendance(%)</th>\n",
       "      <th>Tutoring</th>\n",
       "      <th>Exam_Score</th>\n",
       "      <th>Similarity</th>\n",
       "    </tr>\n",
       "  </thead>\n",
       "  <tbody>\n",
       "    <tr>\n",
       "      <th>0</th>\n",
       "      <td>10.0</td>\n",
       "      <td>90.0</td>\n",
       "      <td>Unknown</td>\n",
       "      <td>NaN</td>\n",
       "      <td>1.000000</td>\n",
       "    </tr>\n",
       "    <tr>\n",
       "      <th>1</th>\n",
       "      <td>10.0</td>\n",
       "      <td>89.6</td>\n",
       "      <td>Yes</td>\n",
       "      <td>99.1</td>\n",
       "      <td>0.999999</td>\n",
       "    </tr>\n",
       "    <tr>\n",
       "      <th>2</th>\n",
       "      <td>10.1</td>\n",
       "      <td>99.9</td>\n",
       "      <td>Yes</td>\n",
       "      <td>98.7</td>\n",
       "      <td>0.999999</td>\n",
       "    </tr>\n",
       "    <tr>\n",
       "      <th>3</th>\n",
       "      <td>10.0</td>\n",
       "      <td>89.5</td>\n",
       "      <td>Yes</td>\n",
       "      <td>82.4</td>\n",
       "      <td>0.999999</td>\n",
       "    </tr>\n",
       "    <tr>\n",
       "      <th>4</th>\n",
       "      <td>10.0</td>\n",
       "      <td>90.8</td>\n",
       "      <td>No</td>\n",
       "      <td>76.1</td>\n",
       "      <td>0.999998</td>\n",
       "    </tr>\n",
       "    <tr>\n",
       "      <th>5</th>\n",
       "      <td>10.1</td>\n",
       "      <td>99.3</td>\n",
       "      <td>No</td>\n",
       "      <td>73.3</td>\n",
       "      <td>0.999998</td>\n",
       "    </tr>\n",
       "  </tbody>\n",
       "</table>\n",
       "</div>"
      ],
      "text/plain": [
       "   HoursStudied/Week  Attendance(%) Tutoring  Exam_Score  Similarity\n",
       "0               10.0           90.0  Unknown         NaN    1.000000\n",
       "1               10.0           89.6      Yes        99.1    0.999999\n",
       "2               10.1           99.9      Yes        98.7    0.999999\n",
       "3               10.0           89.5      Yes        82.4    0.999999\n",
       "4               10.0           90.8       No        76.1    0.999998\n",
       "5               10.1           99.3       No        73.3    0.999998"
      ]
     },
     "metadata": {},
     "output_type": "display_data"
    },
    {
     "name": "stdout",
     "output_type": "stream",
     "text": [
      "\n",
      "Tutoring Recommendation: Yes\n"
     ]
    }
   ],
   "source": [
    "def hybrid_tutoring_recsys(df, features_cols, top_n=5, scale=True):\n",
    "\n",
    "    df = df.copy()\n",
    "    df['Tutoring_Code'] = df['Tutoring'].map({'Yes': 1, 'No': 0})\n",
    "\n",
    "    X = df[features_cols].copy()\n",
    "    if scale:\n",
    "        scaler = StandardScaler()\n",
    "        X_scaled = scaler.fit_transform(X)\n",
    "    else:\n",
    "        X_scaled = X.values\n",
    "\n",
    "    user_input = {}\n",
    "    for col in features_cols:\n",
    "        value = float(input(f\"{col}: \"))\n",
    "        user_input[col] = value\n",
    "    user_df = pd.DataFrame([user_input])\n",
    "    user_df[\"Tutoring\"] = \"Unknown\"\n",
    "    user_df[\"Exam_Score\"] = pd.Series([None], dtype=\"float\") \n",
    "\n",
    "    if scale:\n",
    "        user_scaled = scaler.transform(user_df[features_cols])\n",
    "    else:\n",
    "        user_scaled = user_df[features_cols].values\n",
    "\n",
    "    similarities = cosine_similarity(user_scaled, X_scaled)[0]\n",
    "    df_temp = df.copy()\n",
    "    df_temp[\"Similarity\"] = similarities\n",
    "    top_neighbors = df_temp.sort_values(\"Similarity\", ascending=False).head(top_n)\n",
    "\n",
    "    tutoring_avg = top_neighbors.groupby(\"Tutoring\")[\"Similarity\"].mean()\n",
    "    if tutoring_avg.get(\"Yes\", 0) > tutoring_avg.get(\"No\", 0):\n",
    "        tutoring_suggestion = \"Yes\"\n",
    "    else:\n",
    "        tutoring_suggestion = \"No\"\n",
    "\n",
    "    user_df[\"Similarity\"] = 1.0 \n",
    "    final_table = pd.concat([user_df, top_neighbors[features_cols + [\"Tutoring\", \"Exam_Score\", \"Similarity\"]]],\n",
    "                            ignore_index=True)\n",
    "    print(user_input)\n",
    "    display(final_table.reset_index(drop=True))\n",
    "    print(f\"\\nTutoring Recommendation: {tutoring_suggestion}\")\n",
    "\n",
    "    return tutoring_suggestion, final_table\n",
    "\n",
    "features = [\"HoursStudied/Week\", \"Attendance(%)\"]\n",
    "suggestion, table = hybrid_tutoring_recsys(df, features, top_n=5, scale=True)"
   ]
  },
  {
   "cell_type": "markdown",
   "id": "5cc21a20",
   "metadata": {},
   "source": [
    "Association Rules:"
   ]
  },
  {
   "cell_type": "code",
   "execution_count": 10,
   "id": "60db4697",
   "metadata": {},
   "outputs": [
    {
     "data": {
      "text/html": [
       "<style type=\"text/css\">\n",
       "#T_ee4e2_row0_col0, #T_ee4e2_row0_col3, #T_ee4e2_row1_col0, #T_ee4e2_row1_col3, #T_ee4e2_row2_col0, #T_ee4e2_row2_col3 {\n",
       "  background-color: #fff3cd;\n",
       "}\n",
       "#T_ee4e2_row0_col1 {\n",
       "  background-color: #fff3cd;\n",
       "  background-color: #c7dbef;\n",
       "  color: #000000;\n",
       "}\n",
       "#T_ee4e2_row0_col2 {\n",
       "  background-color: #fff3cd;\n",
       "  background-color: #00441b;\n",
       "  color: #f1f1f1;\n",
       "}\n",
       "#T_ee4e2_row1_col1 {\n",
       "  background-color: #fff3cd;\n",
       "  background-color: #dfecf7;\n",
       "  color: #000000;\n",
       "}\n",
       "#T_ee4e2_row1_col2 {\n",
       "  background-color: #fff3cd;\n",
       "  background-color: #80ca80;\n",
       "  color: #000000;\n",
       "}\n",
       "#T_ee4e2_row2_col1 {\n",
       "  background-color: #fff3cd;\n",
       "  background-color: #f7fbff;\n",
       "  color: #000000;\n",
       "}\n",
       "#T_ee4e2_row2_col2 {\n",
       "  background-color: #fff3cd;\n",
       "  background-color: #75c477;\n",
       "  color: #000000;\n",
       "}\n",
       "#T_ee4e2_row3_col1 {\n",
       "  background-color: #b0d2e7;\n",
       "  color: #000000;\n",
       "}\n",
       "#T_ee4e2_row3_col2 {\n",
       "  background-color: #b2e0ac;\n",
       "  color: #000000;\n",
       "}\n",
       "#T_ee4e2_row4_col1 {\n",
       "  background-color: #e3eef8;\n",
       "  color: #000000;\n",
       "}\n",
       "#T_ee4e2_row4_col2 {\n",
       "  background-color: #d0edca;\n",
       "  color: #000000;\n",
       "}\n",
       "#T_ee4e2_row5_col1 {\n",
       "  background-color: #7ab6d9;\n",
       "  color: #000000;\n",
       "}\n",
       "#T_ee4e2_row5_col2 {\n",
       "  background-color: #cbeac4;\n",
       "  color: #000000;\n",
       "}\n",
       "#T_ee4e2_row6_col1 {\n",
       "  background-color: #f5f9fe;\n",
       "  color: #000000;\n",
       "}\n",
       "#T_ee4e2_row6_col2 {\n",
       "  background-color: #ebf7e7;\n",
       "  color: #000000;\n",
       "}\n",
       "#T_ee4e2_row7_col1 {\n",
       "  background-color: #eef5fc;\n",
       "  color: #000000;\n",
       "}\n",
       "#T_ee4e2_row7_col2 {\n",
       "  background-color: #f5fbf3;\n",
       "  color: #000000;\n",
       "}\n",
       "#T_ee4e2_row8_col1 {\n",
       "  background-color: #08306b;\n",
       "  color: #f1f1f1;\n",
       "}\n",
       "#T_ee4e2_row8_col2 {\n",
       "  background-color: #f7fcf5;\n",
       "  color: #000000;\n",
       "}\n",
       "#T_ee4e2_row9_col1 {\n",
       "  background-color: #d3e3f3;\n",
       "  color: #000000;\n",
       "}\n",
       "#T_ee4e2_row9_col2 {\n",
       "  background-color: #edf8ea;\n",
       "  color: #000000;\n",
       "}\n",
       "</style>\n",
       "<table id=\"T_ee4e2\">\n",
       "  <caption>Top 10 rules </caption>\n",
       "  <thead>\n",
       "    <tr>\n",
       "      <th class=\"blank level0\" >&nbsp;</th>\n",
       "      <th id=\"T_ee4e2_level0_col0\" class=\"col_heading level0 col0\" >Rule</th>\n",
       "      <th id=\"T_ee4e2_level0_col1\" class=\"col_heading level0 col1\" >support</th>\n",
       "      <th id=\"T_ee4e2_level0_col2\" class=\"col_heading level0 col2\" >confidence</th>\n",
       "      <th id=\"T_ee4e2_level0_col3\" class=\"col_heading level0 col3\" >lift</th>\n",
       "    </tr>\n",
       "  </thead>\n",
       "  <tbody>\n",
       "    <tr>\n",
       "      <th id=\"T_ee4e2_level0_row0\" class=\"row_heading level0 row0\" >0</th>\n",
       "      <td id=\"T_ee4e2_row0_col0\" class=\"data row0 col0\" >if The number of study hours per week is high and Attends private tutoring then Exam score is high.</td>\n",
       "      <td id=\"T_ee4e2_row0_col1\" class=\"data row0 col1\" >0.08</td>\n",
       "      <td id=\"T_ee4e2_row0_col2\" class=\"data row0 col2\" >0.98</td>\n",
       "      <td id=\"T_ee4e2_row0_col3\" class=\"data row0 col3\" >3.88</td>\n",
       "    </tr>\n",
       "    <tr>\n",
       "      <th id=\"T_ee4e2_level0_row1\" class=\"row_heading level0 row1\" >1</th>\n",
       "      <td id=\"T_ee4e2_row1_col0\" class=\"data row1 col0\" >if Does not attend private tutoring and The number of study hours per week is low and Lives in a rural area then Exam score is low.</td>\n",
       "      <td id=\"T_ee4e2_row1_col1\" class=\"data row1 col1\" >0.06</td>\n",
       "      <td id=\"T_ee4e2_row1_col2\" class=\"data row1 col2\" >0.92</td>\n",
       "      <td id=\"T_ee4e2_row1_col3\" class=\"data row1 col3\" >3.67</td>\n",
       "    </tr>\n",
       "    <tr>\n",
       "      <th id=\"T_ee4e2_level0_row2\" class=\"row_heading level0 row2\" >2</th>\n",
       "      <td id=\"T_ee4e2_row2_col0\" class=\"data row2 col0\" >if Does not attend private tutoring and Exam score is high and The student is male then The number of study hours per week is high.</td>\n",
       "      <td id=\"T_ee4e2_row2_col1\" class=\"data row2 col1\" >0.05</td>\n",
       "      <td id=\"T_ee4e2_row2_col2\" class=\"data row2 col2\" >0.93</td>\n",
       "      <td id=\"T_ee4e2_row2_col3\" class=\"data row2 col3\" >3.64</td>\n",
       "    </tr>\n",
       "    <tr>\n",
       "      <th id=\"T_ee4e2_level0_row3\" class=\"row_heading level0 row3\" >3</th>\n",
       "      <td id=\"T_ee4e2_row3_col0\" class=\"data row3 col0\" >if Does not attend private tutoring and The number of study hours per week is low and The student is male then Exam score is low.</td>\n",
       "      <td id=\"T_ee4e2_row3_col1\" class=\"data row3 col1\" >0.08</td>\n",
       "      <td id=\"T_ee4e2_row3_col2\" class=\"data row3 col2\" >0.91</td>\n",
       "      <td id=\"T_ee4e2_row3_col3\" class=\"data row3 col3\" >3.61</td>\n",
       "    </tr>\n",
       "    <tr>\n",
       "      <th id=\"T_ee4e2_level0_row4\" class=\"row_heading level0 row4\" >4</th>\n",
       "      <td id=\"T_ee4e2_row4_col0\" class=\"data row4 col0\" >if Does not attend private tutoring and The number of study hours per week is low and Parents have secondary education then Exam score is low.</td>\n",
       "      <td id=\"T_ee4e2_row4_col1\" class=\"data row4 col1\" >0.06</td>\n",
       "      <td id=\"T_ee4e2_row4_col2\" class=\"data row4 col2\" >0.90</td>\n",
       "      <td id=\"T_ee4e2_row4_col3\" class=\"data row4 col3\" >3.57</td>\n",
       "    </tr>\n",
       "    <tr>\n",
       "      <th id=\"T_ee4e2_level0_row5\" class=\"row_heading level0 row5\" >5</th>\n",
       "      <td id=\"T_ee4e2_row5_col0\" class=\"data row5 col0\" >if Does not attend private tutoring and Exam score is high then The number of study hours per week is high.</td>\n",
       "      <td id=\"T_ee4e2_row5_col1\" class=\"data row5 col1\" >0.10</td>\n",
       "      <td id=\"T_ee4e2_row5_col2\" class=\"data row5 col2\" >0.90</td>\n",
       "      <td id=\"T_ee4e2_row5_col3\" class=\"data row5 col3\" >3.53</td>\n",
       "    </tr>\n",
       "    <tr>\n",
       "      <th id=\"T_ee4e2_level0_row6\" class=\"row_heading level0 row6\" >6</th>\n",
       "      <td id=\"T_ee4e2_row6_col0\" class=\"data row6 col0\" >if Does not attend private tutoring and The number of study hours per week is low and Lives in an urban area and The student is male then Exam score is low.</td>\n",
       "      <td id=\"T_ee4e2_row6_col1\" class=\"data row6 col1\" >0.05</td>\n",
       "      <td id=\"T_ee4e2_row6_col2\" class=\"data row6 col2\" >0.89</td>\n",
       "      <td id=\"T_ee4e2_row6_col3\" class=\"data row6 col3\" >3.52</td>\n",
       "    </tr>\n",
       "    <tr>\n",
       "      <th id=\"T_ee4e2_level0_row7\" class=\"row_heading level0 row7\" >7</th>\n",
       "      <td id=\"T_ee4e2_row7_col0\" class=\"data row7 col0\" >if The number of study hours per week is high and Class attendance is high then Exam score is high.</td>\n",
       "      <td id=\"T_ee4e2_row7_col1\" class=\"data row7 col1\" >0.06</td>\n",
       "      <td id=\"T_ee4e2_row7_col2\" class=\"data row7 col2\" >0.88</td>\n",
       "      <td id=\"T_ee4e2_row7_col3\" class=\"data row7 col3\" >3.49</td>\n",
       "    </tr>\n",
       "    <tr>\n",
       "      <th id=\"T_ee4e2_level0_row8\" class=\"row_heading level0 row8\" >8</th>\n",
       "      <td id=\"T_ee4e2_row8_col0\" class=\"data row8 col0\" >if Does not attend private tutoring and The number of study hours per week is low then Exam score is low.</td>\n",
       "      <td id=\"T_ee4e2_row8_col1\" class=\"data row8 col1\" >0.16</td>\n",
       "      <td id=\"T_ee4e2_row8_col2\" class=\"data row8 col2\" >0.88</td>\n",
       "      <td id=\"T_ee4e2_row8_col3\" class=\"data row8 col3\" >3.49</td>\n",
       "    </tr>\n",
       "    <tr>\n",
       "      <th id=\"T_ee4e2_level0_row9\" class=\"row_heading level0 row9\" >9</th>\n",
       "      <td id=\"T_ee4e2_row9_col0\" class=\"data row9 col0\" >if Does not attend private tutoring and Lives in an urban area and Exam score is high then The number of study hours per week is high.</td>\n",
       "      <td id=\"T_ee4e2_row9_col1\" class=\"data row9 col1\" >0.07</td>\n",
       "      <td id=\"T_ee4e2_row9_col2\" class=\"data row9 col2\" >0.88</td>\n",
       "      <td id=\"T_ee4e2_row9_col3\" class=\"data row9 col3\" >3.47</td>\n",
       "    </tr>\n",
       "  </tbody>\n",
       "</table>\n"
      ],
      "text/plain": [
       "<pandas.io.formats.style.Styler at 0x280cd782a10>"
      ]
     },
     "execution_count": 10,
     "metadata": {},
     "output_type": "execute_result"
    }
   ],
   "source": [
    "top_n = 10 \n",
    "bin_df = df.copy()\n",
    "num_cols = ['HoursStudied/Week', 'Attendance(%)', 'Exam_Score']\n",
    "for col in num_cols:\n",
    "    q75 = df[col].quantile(0.75)\n",
    "    q25 = df[col].quantile(0.25)\n",
    "    bin_df[f\"{col}_High\"] = df[col] >= q75\n",
    "    bin_df[f\"{col}_Low\"] = df[col] <= q25\n",
    "\n",
    "categoricals = ['Gender', 'Tutoring', 'Region', 'Parent Education']\n",
    "bin_df = pd.get_dummies(bin_df, columns=categoricals, drop_first=False)\n",
    "\n",
    "bool_df = bin_df.select_dtypes(include=['bool', 'uint8'])\n",
    "\n",
    "translations = {\n",
    "    'HoursStudied/Week_High': 'The number of study hours per week is high',\n",
    "    'HoursStudied/Week_Low': 'The number of study hours per week is low',\n",
    "    'Attendance(%)_High': 'Class attendance is high',\n",
    "    'Attendance(%)_Low': 'Class attendance is low',\n",
    "    'Exam_Score_High': 'Exam score is high',\n",
    "    'Exam_Score_Low': 'Exam score is low',\n",
    "    'Gender_Female': 'The student is female',\n",
    "    'Gender_Male': 'The student is male',\n",
    "    'Tutoring_Yes': 'Attends private tutoring',\n",
    "    'Tutoring_No': 'Does not attend private tutoring',\n",
    "    'Region_Urban': 'Lives in an urban area',\n",
    "    'Region_Rural': 'Lives in a rural area',\n",
    "    'Parent Education_Primary': 'Parents have primary education',\n",
    "    'Parent Education_Secondary': 'Parents have secondary education',\n",
    "    'Parent Education_Tertiary': 'Parents have tertiary (university) education'\n",
    "}\n",
    "\n",
    "\n",
    "freq_items = apriori(bool_df, min_support=0.05, use_colnames=True)\n",
    "rules = association_rules(freq_items, metric=\"confidence\", min_threshold=0.7)\n",
    "rules = rules[rules['lift'] >= 1.2]\n",
    "\n",
    "def readable(items):\n",
    "    return ' and '.join([translations.get(i, i) for i in items])\n",
    "\n",
    "rules['Rule'] = rules.apply(\n",
    "    lambda r: f\"if {readable(list(r['antecedents']))} then {readable(list(r['consequents']))}.\", axis=1\n",
    ")\n",
    "\n",
    "rules_result = (\n",
    "    rules[['Rule', 'support', 'confidence', 'lift']]\n",
    "    .sort_values(by='lift', ascending=False)\n",
    "    .head(top_n) \n",
    "    .reset_index(drop=True)\n",
    ")\n",
    "\n",
    "def highlight_top_lift(row):\n",
    "    if row.name < 3:\n",
    "        return ['background-color: #fff3cd'] * len(row)\n",
    "    return [''] * len(row)\n",
    "\n",
    "styled = (\n",
    "    rules_result\n",
    "    .style\n",
    "    .apply(highlight_top_lift, axis=1)\n",
    "    .background_gradient(subset=['support'], cmap='Blues')\n",
    "    .background_gradient(subset=['confidence'], cmap='Greens')\n",
    "    .format({'support': '{:.2f}', 'confidence': '{:.2f}', 'lift': '{:.2f}'})\n",
    "    .set_caption(f\"Top {top_n} rules \")\n",
    ")\n",
    "styled\n"
   ]
  },
  {
   "cell_type": "markdown",
   "id": "dd763cfb",
   "metadata": {},
   "source": [
    "Extra information and plots"
   ]
  },
  {
   "cell_type": "code",
   "execution_count": 9,
   "id": "12fb804f",
   "metadata": {},
   "outputs": [
    {
     "data": {
      "image/png": "[encoded data removed]",
      "text/plain": [
       "<Figure size 800x500 with 1 Axes>"
      ]
     },
     "metadata": {},
     "output_type": "display_data"
    },
    {
     "data": {
      "image/png": "[encoded data removed]",
      "text/plain": [
       "<Figure size 600x400 with 1 Axes>"
      ]
     },
     "metadata": {},
     "output_type": "display_data"
    },
    {
     "data": {
      "image/png": "[encoded data removed]",
      "text/plain": [
       "<Figure size 600x400 with 1 Axes>"
      ]
     },
     "metadata": {},
     "output_type": "display_data"
    },
    {
     "data": {
      "image/png": "[encoded data removed]",
      "text/plain": [
       "<Figure size 600x400 with 1 Axes>"
      ]
     },
     "metadata": {},
     "output_type": "display_data"
    }
   ],
   "source": [
    "viz_df = df.copy()\n",
    "\n",
    "plt.figure(figsize=(8, 5))\n",
    "sns.scatterplot(data=viz_df, x='HoursStudied/Week', y='Exam_Score', hue='Tutoring', alpha=0.6 ,palette='Pastel2')\n",
    "plt.title('Hours Studied per Week vs Exam Score')\n",
    "plt.tight_layout()\n",
    "plt.show()\n",
    "\n",
    "viz_df['Gender'] = pd.Categorical(viz_df['Gender'], categories=['Female', 'Male'], ordered=True)\n",
    "plt.figure(figsize=(6, 4))\n",
    "sns.boxplot(data=viz_df, x='Gender', y='Exam_Score', hue='Gender', legend=False, palette='Pastel1')\n",
    "plt.title('Exam Score Distribution by Gender')\n",
    "plt.tight_layout()\n",
    "plt.show()\n",
    "\n",
    "plt.figure(figsize=(6, 4))\n",
    "sns.boxplot(data=viz_df, x='Tutoring', y='Exam_Score', palette='Set3',hue='Tutoring',legend=False)\n",
    "plt.title('Exam Score Distribution: Tutoring vs Non-Tutoring')\n",
    "plt.tight_layout()\n",
    "plt.show()\n",
    "\n",
    "plt.figure(figsize=(6, 4))\n",
    "sns.boxplot(data=viz_df, x='Region', y='Exam_Score', palette='pastel',hue='Region',legend=False)\n",
    "plt.title('Exam Score Distribution by Region')\n",
    "plt.tight_layout()\n",
    "plt.show()\n"
   ]
  }
 ],
 "metadata": {
  "kernelspec": {
   "display_name": "Python 3",
   "language": "python",
   "name": "python3"
  },
  "language_info": {
   "codemirror_mode": {
    "name": "ipython",
    "version": 3
   },
   "file_extension": ".py",
   "mimetype": "text/x-python",
   "name": "python",
   "nbconvert_exporter": "python",
   "pygments_lexer": "ipython3",
   "version": "3.11.4"
  }
 },
 "nbformat": 4,
 "nbformat_minor": 5
}
